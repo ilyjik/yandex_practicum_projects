{
 "cells": [
  {
   "cell_type": "markdown",
   "metadata": {},
   "source": [
    "<h1>Описание проекта</h1>"
   ]
  },
  {
   "cell_type": "markdown",
   "metadata": {},
   "source": [
    "Для формулирования ценностного предложения для нового продукта необходимо проанализировать базу данных с информацией о книгах, издательствах, авторах и пользовательских обзорах"
   ]
  },
  {
   "cell_type": "markdown",
   "metadata": {},
   "source": [
    "<h1>Описание данных</h1>"
   ]
  },
  {
   "cell_type": "markdown",
   "metadata": {},
   "source": [
    "Таблица books\n",
    "\n",
    "Содержит данные о книгах:\n",
    "\n",
    "book_id — идентификатор книги;\n",
    "\n",
    "author_id — идентификатор автора;\n",
    "\n",
    "title — название книги;\n",
    "\n",
    "num_pages — количество страниц;\n",
    "\n",
    "publication_date — дата публикации книги;\n",
    "\n",
    "publisher_id — идентификатор издателя."
   ]
  },
  {
   "cell_type": "markdown",
   "metadata": {},
   "source": [
    "Таблица authors\n",
    "\n",
    "Содержит данные об авторах:\n",
    "\n",
    "author_id — идентификатор автора;\n",
    "\n",
    "author — имя автора."
   ]
  },
  {
   "cell_type": "markdown",
   "metadata": {},
   "source": [
    "Таблица publishers\n",
    "\n",
    "Содержит данные об издательствах:\n",
    "\n",
    "publisher_id — идентификатор издательства;\n",
    "\n",
    "publisher — название издательства;"
   ]
  },
  {
   "cell_type": "markdown",
   "metadata": {},
   "source": [
    "Таблица ratings\n",
    "\n",
    "Содержит данные о пользовательских оценках книг:\n",
    "\n",
    "rating_id — идентификатор оценки;\n",
    "\n",
    "book_id — идентификатор книги;\n",
    "\n",
    "username — имя пользователя, оставившего оценку;\n",
    "\n",
    "rating — оценка книги."
   ]
  },
  {
   "cell_type": "markdown",
   "metadata": {},
   "source": [
    "Таблица reviews\n",
    "\n",
    "Содержит данные о пользовательских обзорах:\n",
    "\n",
    "review_id — идентификатор обзора;\n",
    "\n",
    "book_id — идентификатор книги;\n",
    "\n",
    "username — имя автора обзора;\n",
    "\n",
    "text — текст обзора."
   ]
  },
  {
   "cell_type": "markdown",
   "metadata": {},
   "source": [
    "<h1>Загрузка данных</h1>"
   ]
  },
  {
   "cell_type": "markdown",
   "metadata": {},
   "source": [
    "Подключаемся к базе данных"
   ]
  },
  {
   "cell_type": "code",
   "execution_count": 2,
   "metadata": {},
   "outputs": [],
   "source": [
    "# импортируем библиотеки\n",
    "import pandas as pd\n",
    "from sqlalchemy import create_engine\n",
    "# устанавливаем параметры\n",
    "db_config = {'user': 'praktikum_student', # имя пользователя\n",
    "'pwd': 'Sdf4$2;d-d30pp', # пароль\n",
    "'host': 'rc1b-wcoijxj3yxfsf3fs.mdb.yandexcloud.net',\n",
    "'port': 6432, # порт подключения\n",
    "'db': 'data-analyst-final-project-db'} # название базы данных\n",
    "connection_string = 'postgresql://{}:{}@{}:{}/{}'.format(db_config['user'],\n",
    " db_config['pwd'],\n",
    " db_config['host'],\n",
    " db_config['port'],\n",
    " db_config['db'])\n",
    "# сохраняем коннектор\n",
    "engine = create_engine(connection_string, connect_args={'sslmode':'require'})"
   ]
  },
  {
   "cell_type": "markdown",
   "metadata": {},
   "source": [
    "Создаем функцию запроса к таблице"
   ]
  },
  {
   "cell_type": "code",
   "execution_count": 3,
   "metadata": {},
   "outputs": [],
   "source": [
    "def query(text, data, index):\n",
    "    query = text\n",
    "    data = pd.io.sql.read_sql(text, con=engine, index_col = index)\n",
    "    return data"
   ]
  },
  {
   "cell_type": "markdown",
   "metadata": {},
   "source": [
    "Создаем датафреймы"
   ]
  },
  {
   "cell_type": "code",
   "execution_count": 4,
   "metadata": {},
   "outputs": [],
   "source": [
    "books = pd.DataFrame()\n",
    "authors = pd.DataFrame()\n",
    "publishers = pd.DataFrame()\n",
    "ratings = pd.DataFrame()\n",
    "reviews = pd.DataFrame()"
   ]
  },
  {
   "cell_type": "markdown",
   "metadata": {},
   "source": [
    "Создаем запросы к каждой таблице"
   ]
  },
  {
   "cell_type": "code",
   "execution_count": 5,
   "metadata": {},
   "outputs": [
    {
     "data": {
      "text/html": [
       "<div>\n",
       "<style scoped>\n",
       "    .dataframe tbody tr th:only-of-type {\n",
       "        vertical-align: middle;\n",
       "    }\n",
       "\n",
       "    .dataframe tbody tr th {\n",
       "        vertical-align: top;\n",
       "    }\n",
       "\n",
       "    .dataframe thead th {\n",
       "        text-align: right;\n",
       "    }\n",
       "</style>\n",
       "<table border=\"1\" class=\"dataframe\">\n",
       "  <thead>\n",
       "    <tr style=\"text-align: right;\">\n",
       "      <th></th>\n",
       "      <th>author_id</th>\n",
       "      <th>title</th>\n",
       "      <th>num_pages</th>\n",
       "      <th>publication_date</th>\n",
       "      <th>publisher_id</th>\n",
       "    </tr>\n",
       "    <tr>\n",
       "      <th>book_id</th>\n",
       "      <th></th>\n",
       "      <th></th>\n",
       "      <th></th>\n",
       "      <th></th>\n",
       "      <th></th>\n",
       "    </tr>\n",
       "  </thead>\n",
       "  <tbody>\n",
       "    <tr>\n",
       "      <th>1</th>\n",
       "      <td>546</td>\n",
       "      <td>'Salem's Lot</td>\n",
       "      <td>594</td>\n",
       "      <td>2005-11-01</td>\n",
       "      <td>93</td>\n",
       "    </tr>\n",
       "    <tr>\n",
       "      <th>2</th>\n",
       "      <td>465</td>\n",
       "      <td>1 000 Places to See Before You Die</td>\n",
       "      <td>992</td>\n",
       "      <td>2003-05-22</td>\n",
       "      <td>336</td>\n",
       "    </tr>\n",
       "    <tr>\n",
       "      <th>3</th>\n",
       "      <td>407</td>\n",
       "      <td>13 Little Blue Envelopes (Little Blue Envelope...</td>\n",
       "      <td>322</td>\n",
       "      <td>2010-12-21</td>\n",
       "      <td>135</td>\n",
       "    </tr>\n",
       "    <tr>\n",
       "      <th>4</th>\n",
       "      <td>82</td>\n",
       "      <td>1491: New Revelations of the Americas Before C...</td>\n",
       "      <td>541</td>\n",
       "      <td>2006-10-10</td>\n",
       "      <td>309</td>\n",
       "    </tr>\n",
       "    <tr>\n",
       "      <th>5</th>\n",
       "      <td>125</td>\n",
       "      <td>1776</td>\n",
       "      <td>386</td>\n",
       "      <td>2006-07-04</td>\n",
       "      <td>268</td>\n",
       "    </tr>\n",
       "    <tr>\n",
       "      <th>...</th>\n",
       "      <td>...</td>\n",
       "      <td>...</td>\n",
       "      <td>...</td>\n",
       "      <td>...</td>\n",
       "      <td>...</td>\n",
       "    </tr>\n",
       "    <tr>\n",
       "      <th>996</th>\n",
       "      <td>571</td>\n",
       "      <td>Wyrd Sisters (Discworld  #6; Witches #2)</td>\n",
       "      <td>265</td>\n",
       "      <td>2001-02-06</td>\n",
       "      <td>147</td>\n",
       "    </tr>\n",
       "    <tr>\n",
       "      <th>997</th>\n",
       "      <td>454</td>\n",
       "      <td>Xenocide (Ender's Saga  #3)</td>\n",
       "      <td>592</td>\n",
       "      <td>1996-07-15</td>\n",
       "      <td>297</td>\n",
       "    </tr>\n",
       "    <tr>\n",
       "      <th>998</th>\n",
       "      <td>201</td>\n",
       "      <td>Year of Wonders</td>\n",
       "      <td>358</td>\n",
       "      <td>2002-04-30</td>\n",
       "      <td>212</td>\n",
       "    </tr>\n",
       "    <tr>\n",
       "      <th>999</th>\n",
       "      <td>94</td>\n",
       "      <td>You Suck (A Love Story  #2)</td>\n",
       "      <td>328</td>\n",
       "      <td>2007-01-16</td>\n",
       "      <td>331</td>\n",
       "    </tr>\n",
       "    <tr>\n",
       "      <th>1000</th>\n",
       "      <td>509</td>\n",
       "      <td>Zen and the Art of Motorcycle Maintenance: An ...</td>\n",
       "      <td>540</td>\n",
       "      <td>2006-04-25</td>\n",
       "      <td>143</td>\n",
       "    </tr>\n",
       "  </tbody>\n",
       "</table>\n",
       "<p>1000 rows × 5 columns</p>\n",
       "</div>"
      ],
      "text/plain": [
       "         author_id                                              title  \\\n",
       "book_id                                                                 \n",
       "1              546                                       'Salem's Lot   \n",
       "2              465                 1 000 Places to See Before You Die   \n",
       "3              407  13 Little Blue Envelopes (Little Blue Envelope...   \n",
       "4               82  1491: New Revelations of the Americas Before C...   \n",
       "5              125                                               1776   \n",
       "...            ...                                                ...   \n",
       "996            571           Wyrd Sisters (Discworld  #6; Witches #2)   \n",
       "997            454                        Xenocide (Ender's Saga  #3)   \n",
       "998            201                                    Year of Wonders   \n",
       "999             94                        You Suck (A Love Story  #2)   \n",
       "1000           509  Zen and the Art of Motorcycle Maintenance: An ...   \n",
       "\n",
       "         num_pages publication_date  publisher_id  \n",
       "book_id                                            \n",
       "1              594       2005-11-01            93  \n",
       "2              992       2003-05-22           336  \n",
       "3              322       2010-12-21           135  \n",
       "4              541       2006-10-10           309  \n",
       "5              386       2006-07-04           268  \n",
       "...            ...              ...           ...  \n",
       "996            265       2001-02-06           147  \n",
       "997            592       1996-07-15           297  \n",
       "998            358       2002-04-30           212  \n",
       "999            328       2007-01-16           331  \n",
       "1000           540       2006-04-25           143  \n",
       "\n",
       "[1000 rows x 5 columns]"
      ]
     },
     "execution_count": 5,
     "metadata": {},
     "output_type": "execute_result"
    }
   ],
   "source": [
    "query(''' SELECT * FROM books''', books, 'book_id')"
   ]
  },
  {
   "cell_type": "code",
   "execution_count": 6,
   "metadata": {},
   "outputs": [
    {
     "data": {
      "text/html": [
       "<div>\n",
       "<style scoped>\n",
       "    .dataframe tbody tr th:only-of-type {\n",
       "        vertical-align: middle;\n",
       "    }\n",
       "\n",
       "    .dataframe tbody tr th {\n",
       "        vertical-align: top;\n",
       "    }\n",
       "\n",
       "    .dataframe thead th {\n",
       "        text-align: right;\n",
       "    }\n",
       "</style>\n",
       "<table border=\"1\" class=\"dataframe\">\n",
       "  <thead>\n",
       "    <tr style=\"text-align: right;\">\n",
       "      <th></th>\n",
       "      <th>author</th>\n",
       "    </tr>\n",
       "    <tr>\n",
       "      <th>author_id</th>\n",
       "      <th></th>\n",
       "    </tr>\n",
       "  </thead>\n",
       "  <tbody>\n",
       "    <tr>\n",
       "      <th>1</th>\n",
       "      <td>A.S. Byatt</td>\n",
       "    </tr>\n",
       "    <tr>\n",
       "      <th>2</th>\n",
       "      <td>Aesop/Laura Harris/Laura Gibbs</td>\n",
       "    </tr>\n",
       "    <tr>\n",
       "      <th>3</th>\n",
       "      <td>Agatha Christie</td>\n",
       "    </tr>\n",
       "    <tr>\n",
       "      <th>4</th>\n",
       "      <td>Alan Brennert</td>\n",
       "    </tr>\n",
       "    <tr>\n",
       "      <th>5</th>\n",
       "      <td>Alan Moore/David   Lloyd</td>\n",
       "    </tr>\n",
       "    <tr>\n",
       "      <th>...</th>\n",
       "      <td>...</td>\n",
       "    </tr>\n",
       "    <tr>\n",
       "      <th>632</th>\n",
       "      <td>William Strunk Jr./E.B. White</td>\n",
       "    </tr>\n",
       "    <tr>\n",
       "      <th>633</th>\n",
       "      <td>Zadie Smith</td>\n",
       "    </tr>\n",
       "    <tr>\n",
       "      <th>634</th>\n",
       "      <td>Zilpha Keatley Snyder</td>\n",
       "    </tr>\n",
       "    <tr>\n",
       "      <th>635</th>\n",
       "      <td>Zora Neale Hurston</td>\n",
       "    </tr>\n",
       "    <tr>\n",
       "      <th>636</th>\n",
       "      <td>Åsne Seierstad/Ingrid Christopherson</td>\n",
       "    </tr>\n",
       "  </tbody>\n",
       "</table>\n",
       "<p>636 rows × 1 columns</p>\n",
       "</div>"
      ],
      "text/plain": [
       "                                         author\n",
       "author_id                                      \n",
       "1                                    A.S. Byatt\n",
       "2                Aesop/Laura Harris/Laura Gibbs\n",
       "3                               Agatha Christie\n",
       "4                                 Alan Brennert\n",
       "5                      Alan Moore/David   Lloyd\n",
       "...                                         ...\n",
       "632               William Strunk Jr./E.B. White\n",
       "633                                 Zadie Smith\n",
       "634                       Zilpha Keatley Snyder\n",
       "635                          Zora Neale Hurston\n",
       "636        Åsne Seierstad/Ingrid Christopherson\n",
       "\n",
       "[636 rows x 1 columns]"
      ]
     },
     "execution_count": 6,
     "metadata": {},
     "output_type": "execute_result"
    }
   ],
   "source": [
    "query(''' SELECT * FROM authors''', authors, 'author_id')"
   ]
  },
  {
   "cell_type": "code",
   "execution_count": 7,
   "metadata": {},
   "outputs": [
    {
     "data": {
      "text/html": [
       "<div>\n",
       "<style scoped>\n",
       "    .dataframe tbody tr th:only-of-type {\n",
       "        vertical-align: middle;\n",
       "    }\n",
       "\n",
       "    .dataframe tbody tr th {\n",
       "        vertical-align: top;\n",
       "    }\n",
       "\n",
       "    .dataframe thead th {\n",
       "        text-align: right;\n",
       "    }\n",
       "</style>\n",
       "<table border=\"1\" class=\"dataframe\">\n",
       "  <thead>\n",
       "    <tr style=\"text-align: right;\">\n",
       "      <th></th>\n",
       "      <th>publisher</th>\n",
       "    </tr>\n",
       "    <tr>\n",
       "      <th>publisher_id</th>\n",
       "      <th></th>\n",
       "    </tr>\n",
       "  </thead>\n",
       "  <tbody>\n",
       "    <tr>\n",
       "      <th>1</th>\n",
       "      <td>Ace</td>\n",
       "    </tr>\n",
       "    <tr>\n",
       "      <th>2</th>\n",
       "      <td>Ace Book</td>\n",
       "    </tr>\n",
       "    <tr>\n",
       "      <th>3</th>\n",
       "      <td>Ace Books</td>\n",
       "    </tr>\n",
       "    <tr>\n",
       "      <th>4</th>\n",
       "      <td>Ace Hardcover</td>\n",
       "    </tr>\n",
       "    <tr>\n",
       "      <th>5</th>\n",
       "      <td>Addison Wesley Publishing Company</td>\n",
       "    </tr>\n",
       "    <tr>\n",
       "      <th>...</th>\n",
       "      <td>...</td>\n",
       "    </tr>\n",
       "    <tr>\n",
       "      <th>336</th>\n",
       "      <td>Workman Publishing Company</td>\n",
       "    </tr>\n",
       "    <tr>\n",
       "      <th>337</th>\n",
       "      <td>Wyatt Book</td>\n",
       "    </tr>\n",
       "    <tr>\n",
       "      <th>338</th>\n",
       "      <td>Yale University Press</td>\n",
       "    </tr>\n",
       "    <tr>\n",
       "      <th>339</th>\n",
       "      <td>Yearling</td>\n",
       "    </tr>\n",
       "    <tr>\n",
       "      <th>340</th>\n",
       "      <td>Yearling Books</td>\n",
       "    </tr>\n",
       "  </tbody>\n",
       "</table>\n",
       "<p>340 rows × 1 columns</p>\n",
       "</div>"
      ],
      "text/plain": [
       "                                      publisher\n",
       "publisher_id                                   \n",
       "1                                           Ace\n",
       "2                                      Ace Book\n",
       "3                                     Ace Books\n",
       "4                                 Ace Hardcover\n",
       "5             Addison Wesley Publishing Company\n",
       "...                                         ...\n",
       "336                  Workman Publishing Company\n",
       "337                                  Wyatt Book\n",
       "338                       Yale University Press\n",
       "339                                    Yearling\n",
       "340                              Yearling Books\n",
       "\n",
       "[340 rows x 1 columns]"
      ]
     },
     "execution_count": 7,
     "metadata": {},
     "output_type": "execute_result"
    }
   ],
   "source": [
    "query(''' SELECT * FROM publishers''', publishers, 'publisher_id')"
   ]
  },
  {
   "cell_type": "code",
   "execution_count": 8,
   "metadata": {},
   "outputs": [
    {
     "data": {
      "text/html": [
       "<div>\n",
       "<style scoped>\n",
       "    .dataframe tbody tr th:only-of-type {\n",
       "        vertical-align: middle;\n",
       "    }\n",
       "\n",
       "    .dataframe tbody tr th {\n",
       "        vertical-align: top;\n",
       "    }\n",
       "\n",
       "    .dataframe thead th {\n",
       "        text-align: right;\n",
       "    }\n",
       "</style>\n",
       "<table border=\"1\" class=\"dataframe\">\n",
       "  <thead>\n",
       "    <tr style=\"text-align: right;\">\n",
       "      <th></th>\n",
       "      <th>book_id</th>\n",
       "      <th>username</th>\n",
       "      <th>rating</th>\n",
       "    </tr>\n",
       "    <tr>\n",
       "      <th>rating_id</th>\n",
       "      <th></th>\n",
       "      <th></th>\n",
       "      <th></th>\n",
       "    </tr>\n",
       "  </thead>\n",
       "  <tbody>\n",
       "    <tr>\n",
       "      <th>1</th>\n",
       "      <td>1</td>\n",
       "      <td>ryanfranco</td>\n",
       "      <td>4</td>\n",
       "    </tr>\n",
       "    <tr>\n",
       "      <th>2</th>\n",
       "      <td>1</td>\n",
       "      <td>grantpatricia</td>\n",
       "      <td>2</td>\n",
       "    </tr>\n",
       "    <tr>\n",
       "      <th>3</th>\n",
       "      <td>1</td>\n",
       "      <td>brandtandrea</td>\n",
       "      <td>5</td>\n",
       "    </tr>\n",
       "    <tr>\n",
       "      <th>4</th>\n",
       "      <td>2</td>\n",
       "      <td>lorichen</td>\n",
       "      <td>3</td>\n",
       "    </tr>\n",
       "    <tr>\n",
       "      <th>5</th>\n",
       "      <td>2</td>\n",
       "      <td>mariokeller</td>\n",
       "      <td>2</td>\n",
       "    </tr>\n",
       "    <tr>\n",
       "      <th>...</th>\n",
       "      <td>...</td>\n",
       "      <td>...</td>\n",
       "      <td>...</td>\n",
       "    </tr>\n",
       "    <tr>\n",
       "      <th>6452</th>\n",
       "      <td>1000</td>\n",
       "      <td>carolrodriguez</td>\n",
       "      <td>4</td>\n",
       "    </tr>\n",
       "    <tr>\n",
       "      <th>6453</th>\n",
       "      <td>1000</td>\n",
       "      <td>wendy18</td>\n",
       "      <td>4</td>\n",
       "    </tr>\n",
       "    <tr>\n",
       "      <th>6454</th>\n",
       "      <td>1000</td>\n",
       "      <td>jarvispaul</td>\n",
       "      <td>5</td>\n",
       "    </tr>\n",
       "    <tr>\n",
       "      <th>6455</th>\n",
       "      <td>1000</td>\n",
       "      <td>zross</td>\n",
       "      <td>2</td>\n",
       "    </tr>\n",
       "    <tr>\n",
       "      <th>6456</th>\n",
       "      <td>1000</td>\n",
       "      <td>fharris</td>\n",
       "      <td>5</td>\n",
       "    </tr>\n",
       "  </tbody>\n",
       "</table>\n",
       "<p>6456 rows × 3 columns</p>\n",
       "</div>"
      ],
      "text/plain": [
       "           book_id        username  rating\n",
       "rating_id                                 \n",
       "1                1      ryanfranco       4\n",
       "2                1   grantpatricia       2\n",
       "3                1    brandtandrea       5\n",
       "4                2        lorichen       3\n",
       "5                2     mariokeller       2\n",
       "...            ...             ...     ...\n",
       "6452          1000  carolrodriguez       4\n",
       "6453          1000         wendy18       4\n",
       "6454          1000      jarvispaul       5\n",
       "6455          1000           zross       2\n",
       "6456          1000         fharris       5\n",
       "\n",
       "[6456 rows x 3 columns]"
      ]
     },
     "execution_count": 8,
     "metadata": {},
     "output_type": "execute_result"
    }
   ],
   "source": [
    "query(''' SELECT * FROM ratings''', ratings, 'rating_id')"
   ]
  },
  {
   "cell_type": "code",
   "execution_count": 9,
   "metadata": {},
   "outputs": [
    {
     "data": {
      "text/html": [
       "<div>\n",
       "<style scoped>\n",
       "    .dataframe tbody tr th:only-of-type {\n",
       "        vertical-align: middle;\n",
       "    }\n",
       "\n",
       "    .dataframe tbody tr th {\n",
       "        vertical-align: top;\n",
       "    }\n",
       "\n",
       "    .dataframe thead th {\n",
       "        text-align: right;\n",
       "    }\n",
       "</style>\n",
       "<table border=\"1\" class=\"dataframe\">\n",
       "  <thead>\n",
       "    <tr style=\"text-align: right;\">\n",
       "      <th></th>\n",
       "      <th>book_id</th>\n",
       "      <th>username</th>\n",
       "      <th>text</th>\n",
       "    </tr>\n",
       "    <tr>\n",
       "      <th>review_id</th>\n",
       "      <th></th>\n",
       "      <th></th>\n",
       "      <th></th>\n",
       "    </tr>\n",
       "  </thead>\n",
       "  <tbody>\n",
       "    <tr>\n",
       "      <th>1</th>\n",
       "      <td>1</td>\n",
       "      <td>brandtandrea</td>\n",
       "      <td>Mention society tell send professor analysis. ...</td>\n",
       "    </tr>\n",
       "    <tr>\n",
       "      <th>2</th>\n",
       "      <td>1</td>\n",
       "      <td>ryanfranco</td>\n",
       "      <td>Foot glass pretty audience hit themselves. Amo...</td>\n",
       "    </tr>\n",
       "    <tr>\n",
       "      <th>3</th>\n",
       "      <td>2</td>\n",
       "      <td>lorichen</td>\n",
       "      <td>Listen treat keep worry. Miss husband tax but ...</td>\n",
       "    </tr>\n",
       "    <tr>\n",
       "      <th>4</th>\n",
       "      <td>3</td>\n",
       "      <td>johnsonamanda</td>\n",
       "      <td>Finally month interesting blue could nature cu...</td>\n",
       "    </tr>\n",
       "    <tr>\n",
       "      <th>5</th>\n",
       "      <td>3</td>\n",
       "      <td>scotttamara</td>\n",
       "      <td>Nation purpose heavy give wait song will. List...</td>\n",
       "    </tr>\n",
       "    <tr>\n",
       "      <th>...</th>\n",
       "      <td>...</td>\n",
       "      <td>...</td>\n",
       "      <td>...</td>\n",
       "    </tr>\n",
       "    <tr>\n",
       "      <th>2789</th>\n",
       "      <td>999</td>\n",
       "      <td>martinadam</td>\n",
       "      <td>Later hospital turn easy community. Fact same ...</td>\n",
       "    </tr>\n",
       "    <tr>\n",
       "      <th>2790</th>\n",
       "      <td>1000</td>\n",
       "      <td>wknight</td>\n",
       "      <td>Change lose answer close pressure. Spend so now.</td>\n",
       "    </tr>\n",
       "    <tr>\n",
       "      <th>2791</th>\n",
       "      <td>1000</td>\n",
       "      <td>carolrodriguez</td>\n",
       "      <td>Authority go who television entire hair guy po...</td>\n",
       "    </tr>\n",
       "    <tr>\n",
       "      <th>2792</th>\n",
       "      <td>1000</td>\n",
       "      <td>wendy18</td>\n",
       "      <td>Or western offer wonder ask. More hear phone f...</td>\n",
       "    </tr>\n",
       "    <tr>\n",
       "      <th>2793</th>\n",
       "      <td>1000</td>\n",
       "      <td>jarvispaul</td>\n",
       "      <td>Republican staff bit eat material measure plan...</td>\n",
       "    </tr>\n",
       "  </tbody>\n",
       "</table>\n",
       "<p>2793 rows × 3 columns</p>\n",
       "</div>"
      ],
      "text/plain": [
       "           book_id        username  \\\n",
       "review_id                            \n",
       "1                1    brandtandrea   \n",
       "2                1      ryanfranco   \n",
       "3                2        lorichen   \n",
       "4                3   johnsonamanda   \n",
       "5                3     scotttamara   \n",
       "...            ...             ...   \n",
       "2789           999      martinadam   \n",
       "2790          1000         wknight   \n",
       "2791          1000  carolrodriguez   \n",
       "2792          1000         wendy18   \n",
       "2793          1000      jarvispaul   \n",
       "\n",
       "                                                        text  \n",
       "review_id                                                     \n",
       "1          Mention society tell send professor analysis. ...  \n",
       "2          Foot glass pretty audience hit themselves. Amo...  \n",
       "3          Listen treat keep worry. Miss husband tax but ...  \n",
       "4          Finally month interesting blue could nature cu...  \n",
       "5          Nation purpose heavy give wait song will. List...  \n",
       "...                                                      ...  \n",
       "2789       Later hospital turn easy community. Fact same ...  \n",
       "2790        Change lose answer close pressure. Spend so now.  \n",
       "2791       Authority go who television entire hair guy po...  \n",
       "2792       Or western offer wonder ask. More hear phone f...  \n",
       "2793       Republican staff bit eat material measure plan...  \n",
       "\n",
       "[2793 rows x 3 columns]"
      ]
     },
     "execution_count": 9,
     "metadata": {},
     "output_type": "execute_result"
    }
   ],
   "source": [
    "query(''' SELECT * FROM reviews''', reviews, 'review_id')"
   ]
  },
  {
   "cell_type": "markdown",
   "metadata": {},
   "source": [
    "<h1>SQL запросы</h1>"
   ]
  },
  {
   "cell_type": "markdown",
   "metadata": {},
   "source": [
    "Создаем функцию запроса"
   ]
  },
  {
   "cell_type": "code",
   "execution_count": 10,
   "metadata": {},
   "outputs": [],
   "source": [
    "def sql_query(text):\n",
    "    query = text\n",
    "    return pd.io.sql.read_sql(text, con=engine)"
   ]
  },
  {
   "cell_type": "markdown",
   "metadata": {},
   "source": [
    "1. Посчитайте, сколько книг вышло после 1 января 2000 года"
   ]
  },
  {
   "cell_type": "code",
   "execution_count": 11,
   "metadata": {
    "scrolled": true
   },
   "outputs": [
    {
     "data": {
      "text/html": [
       "<div>\n",
       "<style scoped>\n",
       "    .dataframe tbody tr th:only-of-type {\n",
       "        vertical-align: middle;\n",
       "    }\n",
       "\n",
       "    .dataframe tbody tr th {\n",
       "        vertical-align: top;\n",
       "    }\n",
       "\n",
       "    .dataframe thead th {\n",
       "        text-align: right;\n",
       "    }\n",
       "</style>\n",
       "<table border=\"1\" class=\"dataframe\">\n",
       "  <thead>\n",
       "    <tr style=\"text-align: right;\">\n",
       "      <th></th>\n",
       "      <th>count</th>\n",
       "    </tr>\n",
       "  </thead>\n",
       "  <tbody>\n",
       "    <tr>\n",
       "      <th>0</th>\n",
       "      <td>821</td>\n",
       "    </tr>\n",
       "  </tbody>\n",
       "</table>\n",
       "</div>"
      ],
      "text/plain": [
       "   count\n",
       "0    821"
      ]
     },
     "execution_count": 11,
     "metadata": {},
     "output_type": "execute_result"
    }
   ],
   "source": [
    "sql_query(''' SELECT COUNT(book_id) \n",
    "FROM books \n",
    "WHERE publication_date >= '2000-01-01' \n",
    "''')"
   ]
  },
  {
   "cell_type": "markdown",
   "metadata": {},
   "source": [
    "821 книга вышла после 1 января 2000 года"
   ]
  },
  {
   "cell_type": "markdown",
   "metadata": {},
   "source": [
    "2. Для каждой книги посчитайте количество обзоров и среднюю оценку;"
   ]
  },
  {
   "cell_type": "code",
   "execution_count": 12,
   "metadata": {},
   "outputs": [
    {
     "data": {
      "text/html": [
       "<div>\n",
       "<style scoped>\n",
       "    .dataframe tbody tr th:only-of-type {\n",
       "        vertical-align: middle;\n",
       "    }\n",
       "\n",
       "    .dataframe tbody tr th {\n",
       "        vertical-align: top;\n",
       "    }\n",
       "\n",
       "    .dataframe thead th {\n",
       "        text-align: right;\n",
       "    }\n",
       "</style>\n",
       "<table border=\"1\" class=\"dataframe\">\n",
       "  <thead>\n",
       "    <tr style=\"text-align: right;\">\n",
       "      <th></th>\n",
       "      <th>book_id</th>\n",
       "      <th>review_count</th>\n",
       "      <th>avg_rating</th>\n",
       "    </tr>\n",
       "  </thead>\n",
       "  <tbody>\n",
       "    <tr>\n",
       "      <th>0</th>\n",
       "      <td>1</td>\n",
       "      <td>2</td>\n",
       "      <td>3.666667</td>\n",
       "    </tr>\n",
       "    <tr>\n",
       "      <th>1</th>\n",
       "      <td>2</td>\n",
       "      <td>1</td>\n",
       "      <td>2.500000</td>\n",
       "    </tr>\n",
       "    <tr>\n",
       "      <th>2</th>\n",
       "      <td>3</td>\n",
       "      <td>3</td>\n",
       "      <td>4.666667</td>\n",
       "    </tr>\n",
       "    <tr>\n",
       "      <th>3</th>\n",
       "      <td>4</td>\n",
       "      <td>2</td>\n",
       "      <td>4.500000</td>\n",
       "    </tr>\n",
       "    <tr>\n",
       "      <th>4</th>\n",
       "      <td>5</td>\n",
       "      <td>4</td>\n",
       "      <td>4.000000</td>\n",
       "    </tr>\n",
       "    <tr>\n",
       "      <th>...</th>\n",
       "      <td>...</td>\n",
       "      <td>...</td>\n",
       "      <td>...</td>\n",
       "    </tr>\n",
       "    <tr>\n",
       "      <th>989</th>\n",
       "      <td>996</td>\n",
       "      <td>3</td>\n",
       "      <td>3.666667</td>\n",
       "    </tr>\n",
       "    <tr>\n",
       "      <th>990</th>\n",
       "      <td>997</td>\n",
       "      <td>3</td>\n",
       "      <td>3.400000</td>\n",
       "    </tr>\n",
       "    <tr>\n",
       "      <th>991</th>\n",
       "      <td>998</td>\n",
       "      <td>4</td>\n",
       "      <td>3.200000</td>\n",
       "    </tr>\n",
       "    <tr>\n",
       "      <th>992</th>\n",
       "      <td>999</td>\n",
       "      <td>2</td>\n",
       "      <td>4.500000</td>\n",
       "    </tr>\n",
       "    <tr>\n",
       "      <th>993</th>\n",
       "      <td>1000</td>\n",
       "      <td>4</td>\n",
       "      <td>3.833333</td>\n",
       "    </tr>\n",
       "  </tbody>\n",
       "</table>\n",
       "<p>994 rows × 3 columns</p>\n",
       "</div>"
      ],
      "text/plain": [
       "     book_id  review_count  avg_rating\n",
       "0          1             2    3.666667\n",
       "1          2             1    2.500000\n",
       "2          3             3    4.666667\n",
       "3          4             2    4.500000\n",
       "4          5             4    4.000000\n",
       "..       ...           ...         ...\n",
       "989      996             3    3.666667\n",
       "990      997             3    3.400000\n",
       "991      998             4    3.200000\n",
       "992      999             2    4.500000\n",
       "993     1000             4    3.833333\n",
       "\n",
       "[994 rows x 3 columns]"
      ]
     },
     "execution_count": 12,
     "metadata": {},
     "output_type": "execute_result"
    }
   ],
   "source": [
    "sql_query(''' WITH\n",
    "rev AS (\n",
    "    SELECT b.book_id, COUNT(review_id) as review_count\n",
    "    FROM books b\n",
    "    JOIN reviews re\n",
    "    ON b.book_id = re.book_id\n",
    "    GROUP BY b.book_id\n",
    "    ),\n",
    "rat AS (\n",
    "    SELECT b.book_id, AVG(rating) as avg_rating\n",
    "    FROM books b\n",
    "    JOIN ratings ra\n",
    "    ON b.book_id = ra.book_id\n",
    "    GROUP BY b.book_id\n",
    "    )\n",
    "\n",
    "SELECT rev.book_id, review_count, avg_rating\n",
    "FROM rev\n",
    "JOIN rat\n",
    "ON rev.book_id = rat.book_id\n",
    "''')"
   ]
  },
  {
   "cell_type": "markdown",
   "metadata": {},
   "source": [
    "Результаты приведены в таблице выше"
   ]
  },
  {
   "cell_type": "markdown",
   "metadata": {},
   "source": [
    "3. Определите издательство, которое выпустило наибольшее число книг толще 50 страниц"
   ]
  },
  {
   "cell_type": "code",
   "execution_count": 13,
   "metadata": {},
   "outputs": [
    {
     "data": {
      "text/html": [
       "<div>\n",
       "<style scoped>\n",
       "    .dataframe tbody tr th:only-of-type {\n",
       "        vertical-align: middle;\n",
       "    }\n",
       "\n",
       "    .dataframe tbody tr th {\n",
       "        vertical-align: top;\n",
       "    }\n",
       "\n",
       "    .dataframe thead th {\n",
       "        text-align: right;\n",
       "    }\n",
       "</style>\n",
       "<table border=\"1\" class=\"dataframe\">\n",
       "  <thead>\n",
       "    <tr style=\"text-align: right;\">\n",
       "      <th></th>\n",
       "      <th>publisher_id</th>\n",
       "      <th>publisher</th>\n",
       "      <th>book_count</th>\n",
       "    </tr>\n",
       "  </thead>\n",
       "  <tbody>\n",
       "    <tr>\n",
       "      <th>0</th>\n",
       "      <td>212</td>\n",
       "      <td>Penguin Books</td>\n",
       "      <td>42</td>\n",
       "    </tr>\n",
       "  </tbody>\n",
       "</table>\n",
       "</div>"
      ],
      "text/plain": [
       "   publisher_id      publisher  book_count\n",
       "0           212  Penguin Books          42"
      ]
     },
     "execution_count": 13,
     "metadata": {},
     "output_type": "execute_result"
    }
   ],
   "source": [
    "sql_query(''' SELECT p.publisher_id, publisher, COUNT(book_id) as book_count\n",
    "FROM publishers p\n",
    "JOIN books b ON p.publisher_id = b.publisher_id\n",
    "WHERE num_pages > 50\n",
    "GROUP BY p.publisher_id, publisher\n",
    "ORDER BY book_count DESC\n",
    "LIMIT 1\n",
    " ''')"
   ]
  },
  {
   "cell_type": "markdown",
   "metadata": {},
   "source": [
    "Издательство Penguin Books (id 212) выпустило 42 книги толще 50 страниц, что является наибольшим результатом среди представлененых в базе издательств"
   ]
  },
  {
   "cell_type": "markdown",
   "metadata": {},
   "source": [
    "4. Определите автора с самой высокой средней оценкой книг — учитывайте только книги с 50 и более оценками"
   ]
  },
  {
   "cell_type": "code",
   "execution_count": 34,
   "metadata": {},
   "outputs": [
    {
     "data": {
      "text/html": [
       "<div>\n",
       "<style scoped>\n",
       "    .dataframe tbody tr th:only-of-type {\n",
       "        vertical-align: middle;\n",
       "    }\n",
       "\n",
       "    .dataframe tbody tr th {\n",
       "        vertical-align: top;\n",
       "    }\n",
       "\n",
       "    .dataframe thead th {\n",
       "        text-align: right;\n",
       "    }\n",
       "</style>\n",
       "<table border=\"1\" class=\"dataframe\">\n",
       "  <thead>\n",
       "    <tr style=\"text-align: right;\">\n",
       "      <th></th>\n",
       "      <th>author_id</th>\n",
       "      <th>author</th>\n",
       "      <th>avg_rating</th>\n",
       "    </tr>\n",
       "  </thead>\n",
       "  <tbody>\n",
       "    <tr>\n",
       "      <th>0</th>\n",
       "      <td>236</td>\n",
       "      <td>J.K. Rowling/Mary GrandPré</td>\n",
       "      <td>4.287097</td>\n",
       "    </tr>\n",
       "  </tbody>\n",
       "</table>\n",
       "</div>"
      ],
      "text/plain": [
       "   author_id                      author  avg_rating\n",
       "0        236  J.K. Rowling/Mary GrandPré    4.287097"
      ]
     },
     "execution_count": 34,
     "metadata": {},
     "output_type": "execute_result"
    }
   ],
   "source": [
    "sql_query(''' WITH\n",
    "rat as (\n",
    "    SELECT b.book_id, author_id\n",
    "    FROM books b\n",
    "    JOIN ratings ra\n",
    "    ON b.book_id = ra.book_id\n",
    "    GROUP BY b.book_id\n",
    "    HAVING COUNT(rating_id) >= 50\n",
    "    )\n",
    "\n",
    "SELECT a.author_id, author, AVG(rating) as avg_rating\n",
    "FROM authors a\n",
    "JOIN rat\n",
    "ON a.author_id = rat.author_id\n",
    "JOIN ratings r\n",
    "ON rat.book_id = r.book_id\n",
    "GROUP BY a.author_id, author\n",
    "ORDER BY AVG(rating) desc\n",
    "LIMIT 1\n",
    " ''')"
   ]
  },
  {
   "cell_type": "markdown",
   "metadata": {},
   "source": [
    "Джоан Роулинг является автором с наивысшей средней оценкой, учитывая только книги с 50 и более оценками"
   ]
  },
  {
   "cell_type": "markdown",
   "metadata": {},
   "source": [
    "5. Посчитайте среднее количество обзоров от пользователей, которые поставили больше 50 оценок"
   ]
  },
  {
   "cell_type": "code",
   "execution_count": null,
   "metadata": {},
   "outputs": [],
   "source": [
    "sql_query('''\n",
    "WITH rating_count AS \n",
    "(\n",
    "    SELECT username\n",
    "    FROM ratings\n",
    "    GROUP BY username\n",
    "    HAVING COUNT(rating_id) > 50\n",
    ")\n",
    " \n",
    "SELECT AVG(review_count)\n",
    "FROM \n",
    "(\n",
    "    SELECT COUNT(review_id) as review_count\n",
    "    FROM reviews re\n",
    "    JOIN rating_count rc ON re.username = rc.username\n",
    "    GROUP BY rc.username\n",
    ") AS review_count\n",
    "\n",
    "''')"
   ]
  },
  {
   "cell_type": "markdown",
   "metadata": {},
   "source": [
    "Пользователи, которые поставили больше 50 оценок, в среднем обозревают 24.3 книги"
   ]
  },
  {
   "cell_type": "markdown",
   "metadata": {},
   "source": [
    "В данной работе была исследована база данных с информацией о книгах, авторах, издательствах и пользовательских обзорах. В базе в основном представлены современные книги (примерно 80% книг выпущены после 2000 года). Наиболее успешным автором является Джоан Роулинг. Думаю многие сталкивались с ее полюбившейся многим серией о Гарри Поттере, поэтому не удивительно, что у этого автора наибольшая средняя оценка среди авторов книг с множеством оценок. Самым активным издателем за эти годы стало издательство Penguin Books. Это издательство является одним из самых известных во всем мире. Именно это издательство, как считают многие, привнесло чтение в массы. Наиболее важным критерием успешности книги является оценка читателей. Но не менее важны комментарии / обзоры. Активные пользователи (у кого больше 50 оценок) в среднем обозревают половину оцененных ими книг. Обзоры пользователей совместно с оценками помогут правильно выбрать направление развития библиотеки, выбрать какие книги больше нравятся читателям и добавлять похожие."
   ]
  }
 ],
 "metadata": {
  "ExecuteTimeLog": [
   {
    "duration": 12027,
    "start_time": "2022-11-09T09:36:26.484Z"
   },
   {
    "duration": 69,
    "start_time": "2022-11-09T09:36:51.386Z"
   },
   {
    "duration": 285,
    "start_time": "2022-11-09T09:46:39.080Z"
   },
   {
    "duration": 84,
    "start_time": "2022-11-09T09:47:03.095Z"
   },
   {
    "duration": 75,
    "start_time": "2022-11-09T09:47:29.327Z"
   },
   {
    "duration": 144,
    "start_time": "2022-11-09T09:47:42.767Z"
   },
   {
    "duration": 120,
    "start_time": "2022-11-09T09:47:58.991Z"
   },
   {
    "duration": 5,
    "start_time": "2022-11-09T10:00:23.987Z"
   },
   {
    "duration": 285,
    "start_time": "2022-11-09T10:00:26.716Z"
   },
   {
    "duration": 78,
    "start_time": "2022-11-09T10:00:27.140Z"
   },
   {
    "duration": 78,
    "start_time": "2022-11-09T10:00:27.340Z"
   },
   {
    "duration": 143,
    "start_time": "2022-11-09T10:00:28.244Z"
   },
   {
    "duration": 109,
    "start_time": "2022-11-09T10:00:28.813Z"
   },
   {
    "duration": 5,
    "start_time": "2022-11-09T10:04:42.267Z"
   },
   {
    "duration": 3,
    "start_time": "2022-11-09T10:04:42.555Z"
   },
   {
    "duration": 272,
    "start_time": "2022-11-09T10:05:09.372Z"
   },
   {
    "duration": 97,
    "start_time": "2022-11-09T10:05:52.052Z"
   },
   {
    "duration": 79,
    "start_time": "2022-11-09T10:06:06.076Z"
   },
   {
    "duration": 170,
    "start_time": "2022-11-09T10:06:18.235Z"
   },
   {
    "duration": 134,
    "start_time": "2022-11-09T10:06:28.355Z"
   },
   {
    "duration": 9427,
    "start_time": "2022-11-09T10:06:45.790Z"
   },
   {
    "duration": 4,
    "start_time": "2022-11-09T10:06:55.219Z"
   },
   {
    "duration": 71,
    "start_time": "2022-11-09T10:06:55.228Z"
   },
   {
    "duration": 0,
    "start_time": "2022-11-09T10:06:55.301Z"
   },
   {
    "duration": 0,
    "start_time": "2022-11-09T10:06:55.302Z"
   },
   {
    "duration": 0,
    "start_time": "2022-11-09T10:06:55.303Z"
   },
   {
    "duration": 0,
    "start_time": "2022-11-09T10:06:55.304Z"
   },
   {
    "duration": 4,
    "start_time": "2022-11-09T10:08:00.082Z"
   },
   {
    "duration": 308,
    "start_time": "2022-11-09T10:08:02.050Z"
   },
   {
    "duration": 6955,
    "start_time": "2022-11-09T10:08:50.233Z"
   },
   {
    "duration": 3,
    "start_time": "2022-11-09T10:08:57.191Z"
   },
   {
    "duration": 85,
    "start_time": "2022-11-09T10:08:57.197Z"
   },
   {
    "duration": 0,
    "start_time": "2022-11-09T10:08:57.283Z"
   },
   {
    "duration": 0,
    "start_time": "2022-11-09T10:08:57.285Z"
   },
   {
    "duration": 0,
    "start_time": "2022-11-09T10:08:57.286Z"
   },
   {
    "duration": 0,
    "start_time": "2022-11-09T10:08:57.287Z"
   },
   {
    "duration": 0,
    "start_time": "2022-11-09T10:08:57.288Z"
   },
   {
    "duration": 9,
    "start_time": "2022-11-09T10:09:30.259Z"
   },
   {
    "duration": 7,
    "start_time": "2022-11-09T10:10:10.450Z"
   },
   {
    "duration": 302,
    "start_time": "2022-11-09T10:11:06.226Z"
   },
   {
    "duration": 72,
    "start_time": "2022-11-09T10:11:06.595Z"
   },
   {
    "duration": 71,
    "start_time": "2022-11-09T10:11:07.450Z"
   },
   {
    "duration": 141,
    "start_time": "2022-11-09T10:11:07.882Z"
   },
   {
    "duration": 107,
    "start_time": "2022-11-09T10:11:08.369Z"
   },
   {
    "duration": 4,
    "start_time": "2022-11-09T10:14:15.449Z"
   },
   {
    "duration": 4,
    "start_time": "2022-11-09T10:14:24.290Z"
   },
   {
    "duration": 14,
    "start_time": "2022-11-09T10:14:30.482Z"
   },
   {
    "duration": 4,
    "start_time": "2022-11-09T10:14:35.833Z"
   },
   {
    "duration": 189,
    "start_time": "2022-11-09T10:14:36.721Z"
   },
   {
    "duration": 152,
    "start_time": "2022-11-09T10:15:28.682Z"
   },
   {
    "duration": 58,
    "start_time": "2022-11-09T10:18:04.721Z"
   },
   {
    "duration": 127,
    "start_time": "2022-11-09T10:18:15.337Z"
   },
   {
    "duration": 51,
    "start_time": "2022-11-09T10:18:22.345Z"
   },
   {
    "duration": 185,
    "start_time": "2022-11-09T10:20:55.569Z"
   },
   {
    "duration": 68,
    "start_time": "2022-11-09T10:21:08.649Z"
   },
   {
    "duration": 70,
    "start_time": "2022-11-09T10:21:38.439Z"
   },
   {
    "duration": 68,
    "start_time": "2022-11-09T10:22:57.008Z"
   },
   {
    "duration": 158,
    "start_time": "2022-11-09T10:25:42.408Z"
   },
   {
    "duration": 156,
    "start_time": "2022-11-09T10:25:52.406Z"
   },
   {
    "duration": 280,
    "start_time": "2022-11-09T10:26:19.638Z"
   },
   {
    "duration": 131,
    "start_time": "2022-11-09T10:26:41.944Z"
   },
   {
    "duration": 102,
    "start_time": "2022-11-09T10:27:00.309Z"
   },
   {
    "duration": 107,
    "start_time": "2022-11-09T10:27:07.200Z"
   },
   {
    "duration": 108,
    "start_time": "2022-11-09T10:27:47.126Z"
   },
   {
    "duration": 104,
    "start_time": "2022-11-09T10:28:17.414Z"
   },
   {
    "duration": 190,
    "start_time": "2022-11-09T10:28:20.005Z"
   },
   {
    "duration": 110,
    "start_time": "2022-11-09T10:28:22.816Z"
   },
   {
    "duration": 481,
    "start_time": "2022-11-09T10:33:21.725Z"
   },
   {
    "duration": 139,
    "start_time": "2022-11-09T10:33:51.014Z"
   },
   {
    "duration": 193,
    "start_time": "2022-11-09T10:34:10.482Z"
   },
   {
    "duration": 160,
    "start_time": "2022-11-09T10:34:35.181Z"
   },
   {
    "duration": 177,
    "start_time": "2022-11-09T10:34:53.941Z"
   },
   {
    "duration": 68,
    "start_time": "2022-11-09T10:35:07.149Z"
   },
   {
    "duration": 68,
    "start_time": "2022-11-09T10:35:25.723Z"
   },
   {
    "duration": 130,
    "start_time": "2022-11-09T10:35:36.445Z"
   },
   {
    "duration": 68,
    "start_time": "2022-11-09T10:35:41.989Z"
   },
   {
    "duration": 146,
    "start_time": "2022-11-09T10:37:09.900Z"
   },
   {
    "duration": 149,
    "start_time": "2022-11-09T10:37:58.789Z"
   },
   {
    "duration": 84,
    "start_time": "2022-11-09T10:38:26.277Z"
   },
   {
    "duration": 78,
    "start_time": "2022-11-09T10:39:25.892Z"
   },
   {
    "duration": 72,
    "start_time": "2022-11-09T10:39:50.819Z"
   },
   {
    "duration": 74,
    "start_time": "2022-11-09T10:39:57.836Z"
   },
   {
    "duration": 77,
    "start_time": "2022-11-09T10:40:03.571Z"
   },
   {
    "duration": 76,
    "start_time": "2022-11-09T10:40:22.227Z"
   },
   {
    "duration": 140,
    "start_time": "2022-11-09T10:42:54.109Z"
   },
   {
    "duration": 138,
    "start_time": "2022-11-09T10:43:03.035Z"
   },
   {
    "duration": 70,
    "start_time": "2022-11-09T10:43:22.746Z"
   },
   {
    "duration": 120,
    "start_time": "2022-11-09T10:43:49.458Z"
   },
   {
    "duration": 70,
    "start_time": "2022-11-09T10:43:55.586Z"
   },
   {
    "duration": 182,
    "start_time": "2022-11-09T10:47:44.689Z"
   },
   {
    "duration": 122,
    "start_time": "2022-11-09T10:48:16.281Z"
   },
   {
    "duration": 127,
    "start_time": "2022-11-09T10:48:22.817Z"
   },
   {
    "duration": 185,
    "start_time": "2022-11-09T10:48:40.969Z"
   },
   {
    "duration": 81,
    "start_time": "2022-11-09T10:49:47.337Z"
   },
   {
    "duration": 78,
    "start_time": "2022-11-09T10:50:08.839Z"
   },
   {
    "duration": 90,
    "start_time": "2022-11-09T10:50:13.520Z"
   },
   {
    "duration": 76,
    "start_time": "2022-11-09T10:50:18.672Z"
   },
   {
    "duration": 75,
    "start_time": "2022-11-09T10:50:59.320Z"
   },
   {
    "duration": 146,
    "start_time": "2022-11-09T10:55:19.960Z"
   },
   {
    "duration": 133,
    "start_time": "2022-11-09T10:55:49.815Z"
   },
   {
    "duration": 77,
    "start_time": "2022-11-09T10:56:00.847Z"
   },
   {
    "duration": 80,
    "start_time": "2022-11-09T10:56:17.718Z"
   },
   {
    "duration": 152,
    "start_time": "2022-11-09T10:59:55.374Z"
   },
   {
    "duration": 78,
    "start_time": "2022-11-09T11:00:06.030Z"
   },
   {
    "duration": 103,
    "start_time": "2022-11-09T11:00:13.284Z"
   },
   {
    "duration": 151,
    "start_time": "2022-11-09T11:04:11.060Z"
   },
   {
    "duration": 144,
    "start_time": "2022-11-09T11:04:18.973Z"
   },
   {
    "duration": 126,
    "start_time": "2022-11-09T11:05:27.460Z"
   },
   {
    "duration": 145,
    "start_time": "2022-11-09T11:05:44.804Z"
   },
   {
    "duration": 88,
    "start_time": "2022-11-09T11:05:53.820Z"
   },
   {
    "duration": 80,
    "start_time": "2022-11-09T11:06:10.420Z"
   },
   {
    "duration": 71,
    "start_time": "2022-11-09T11:06:42.291Z"
   },
   {
    "duration": 70,
    "start_time": "2022-11-09T11:07:21.283Z"
   },
   {
    "duration": 76,
    "start_time": "2022-11-09T11:10:31.228Z"
   },
   {
    "duration": 74,
    "start_time": "2022-11-09T11:10:38.675Z"
   },
   {
    "duration": 6434,
    "start_time": "2022-11-09T11:13:20.544Z"
   },
   {
    "duration": 2,
    "start_time": "2022-11-09T11:13:26.980Z"
   },
   {
    "duration": 9,
    "start_time": "2022-11-09T11:13:26.984Z"
   },
   {
    "duration": 300,
    "start_time": "2022-11-09T11:13:26.994Z"
   },
   {
    "duration": 71,
    "start_time": "2022-11-09T11:13:27.296Z"
   },
   {
    "duration": 70,
    "start_time": "2022-11-09T11:13:27.369Z"
   },
   {
    "duration": 95,
    "start_time": "2022-11-09T11:13:27.441Z"
   },
   {
    "duration": 89,
    "start_time": "2022-11-09T11:13:27.537Z"
   },
   {
    "duration": 3,
    "start_time": "2022-11-09T11:13:27.628Z"
   },
   {
    "duration": 81,
    "start_time": "2022-11-09T11:13:27.632Z"
   },
   {
    "duration": 82,
    "start_time": "2022-11-09T11:13:27.715Z"
   },
   {
    "duration": 72,
    "start_time": "2022-11-09T11:13:27.798Z"
   },
   {
    "duration": 74,
    "start_time": "2022-11-09T11:13:27.871Z"
   },
   {
    "duration": 69,
    "start_time": "2022-11-09T11:13:27.947Z"
   },
   {
    "duration": 55,
    "start_time": "2022-11-10T10:08:03.725Z"
   },
   {
    "duration": 48,
    "start_time": "2022-11-10T10:12:34.136Z"
   },
   {
    "duration": 5588,
    "start_time": "2022-11-10T10:12:40.306Z"
   },
   {
    "duration": 3,
    "start_time": "2022-11-10T10:12:45.896Z"
   },
   {
    "duration": 11,
    "start_time": "2022-11-10T10:12:45.902Z"
   },
   {
    "duration": 330,
    "start_time": "2022-11-10T10:12:45.915Z"
   },
   {
    "duration": 81,
    "start_time": "2022-11-10T10:12:46.247Z"
   },
   {
    "duration": 79,
    "start_time": "2022-11-10T10:12:46.329Z"
   },
   {
    "duration": 103,
    "start_time": "2022-11-10T10:12:46.410Z"
   },
   {
    "duration": 100,
    "start_time": "2022-11-10T10:12:46.514Z"
   },
   {
    "duration": 3,
    "start_time": "2022-11-10T10:12:46.616Z"
   },
   {
    "duration": 122,
    "start_time": "2022-11-10T10:12:46.621Z"
   },
   {
    "duration": 93,
    "start_time": "2022-11-10T10:12:46.744Z"
   },
   {
    "duration": 80,
    "start_time": "2022-11-10T10:12:46.838Z"
   },
   {
    "duration": 84,
    "start_time": "2022-11-10T10:12:46.920Z"
   },
   {
    "duration": 83,
    "start_time": "2022-11-10T10:12:47.005Z"
   },
   {
    "duration": 112,
    "start_time": "2022-11-10T10:14:09.923Z"
   },
   {
    "duration": 109,
    "start_time": "2022-11-10T10:14:23.157Z"
   },
   {
    "duration": 10459,
    "start_time": "2022-11-10T13:14:57.575Z"
   },
   {
    "duration": 4,
    "start_time": "2022-11-10T13:15:08.035Z"
   },
   {
    "duration": 15,
    "start_time": "2022-11-10T13:15:08.041Z"
   },
   {
    "duration": 76,
    "start_time": "2022-11-10T13:15:08.059Z"
   },
   {
    "duration": 15,
    "start_time": "2022-11-10T13:15:08.137Z"
   },
   {
    "duration": 15,
    "start_time": "2022-11-10T13:15:08.154Z"
   },
   {
    "duration": 45,
    "start_time": "2022-11-10T13:15:08.171Z"
   },
   {
    "duration": 49,
    "start_time": "2022-11-10T13:15:08.218Z"
   },
   {
    "duration": 3,
    "start_time": "2022-11-10T13:15:08.269Z"
   },
   {
    "duration": 203,
    "start_time": "2022-11-10T13:20:22.586Z"
   },
   {
    "duration": 98,
    "start_time": "2022-11-10T13:20:59.466Z"
   },
   {
    "duration": 102,
    "start_time": "2022-11-10T13:21:23.323Z"
   },
   {
    "duration": 123,
    "start_time": "2022-11-10T13:21:31.986Z"
   },
   {
    "duration": 25,
    "start_time": "2022-11-10T13:21:42.074Z"
   },
   {
    "duration": 32,
    "start_time": "2022-11-10T13:24:45.600Z"
   },
   {
    "duration": 96,
    "start_time": "2022-11-10T13:27:40.568Z"
   },
   {
    "duration": 33,
    "start_time": "2022-11-10T13:27:49.042Z"
   },
   {
    "duration": 113,
    "start_time": "2022-11-10T13:28:07.440Z"
   },
   {
    "duration": 19,
    "start_time": "2022-11-10T13:28:14.761Z"
   },
   {
    "duration": 31,
    "start_time": "2022-11-10T13:28:37.968Z"
   },
   {
    "duration": 143,
    "start_time": "2022-11-10T13:30:30.017Z"
   },
   {
    "duration": 107,
    "start_time": "2022-11-10T13:30:39.882Z"
   },
   {
    "duration": 25,
    "start_time": "2022-11-10T13:30:48.089Z"
   },
   {
    "duration": 23,
    "start_time": "2022-11-10T13:31:51.184Z"
   },
   {
    "duration": 22,
    "start_time": "2022-11-10T13:32:21.688Z"
   },
   {
    "duration": 104,
    "start_time": "2022-11-10T13:32:36.064Z"
   },
   {
    "duration": 19,
    "start_time": "2022-11-10T13:32:43.416Z"
   },
   {
    "duration": 25,
    "start_time": "2022-11-10T13:32:52.423Z"
   },
   {
    "duration": 9432,
    "start_time": "2022-11-11T13:12:34.635Z"
   },
   {
    "duration": 4,
    "start_time": "2022-11-11T13:12:44.069Z"
   },
   {
    "duration": 11,
    "start_time": "2022-11-11T13:12:44.074Z"
   },
   {
    "duration": 132,
    "start_time": "2022-11-11T13:12:44.087Z"
   },
   {
    "duration": 17,
    "start_time": "2022-11-11T13:12:44.220Z"
   },
   {
    "duration": 18,
    "start_time": "2022-11-11T13:12:44.239Z"
   },
   {
    "duration": 59,
    "start_time": "2022-11-11T13:12:44.258Z"
   },
   {
    "duration": 25,
    "start_time": "2022-11-11T13:12:44.319Z"
   },
   {
    "duration": 3,
    "start_time": "2022-11-11T13:12:44.346Z"
   },
   {
    "duration": 16,
    "start_time": "2022-11-11T13:12:44.352Z"
   },
   {
    "duration": 25,
    "start_time": "2022-11-11T13:12:44.370Z"
   },
   {
    "duration": 14,
    "start_time": "2022-11-11T13:12:44.397Z"
   },
   {
    "duration": 17,
    "start_time": "2022-11-11T13:12:44.413Z"
   },
   {
    "duration": 30,
    "start_time": "2022-11-11T13:12:44.431Z"
   },
   {
    "duration": 24,
    "start_time": "2022-11-11T13:42:13.219Z"
   },
   {
    "duration": 23,
    "start_time": "2022-11-11T13:44:16.112Z"
   },
   {
    "duration": 46,
    "start_time": "2022-11-11T15:20:27.779Z"
   },
   {
    "duration": 8582,
    "start_time": "2022-11-11T15:20:31.080Z"
   },
   {
    "duration": 3,
    "start_time": "2022-11-11T15:20:39.664Z"
   },
   {
    "duration": 6,
    "start_time": "2022-11-11T15:20:39.668Z"
   },
   {
    "duration": 77,
    "start_time": "2022-11-11T15:20:39.676Z"
   },
   {
    "duration": 12,
    "start_time": "2022-11-11T15:20:39.755Z"
   },
   {
    "duration": 11,
    "start_time": "2022-11-11T15:20:39.768Z"
   },
   {
    "duration": 24,
    "start_time": "2022-11-11T15:20:39.781Z"
   },
   {
    "duration": 19,
    "start_time": "2022-11-11T15:20:39.806Z"
   },
   {
    "duration": 3,
    "start_time": "2022-11-11T15:20:39.826Z"
   },
   {
    "duration": 29,
    "start_time": "2022-11-11T15:20:39.831Z"
   },
   {
    "duration": 21,
    "start_time": "2022-11-11T15:20:39.861Z"
   },
   {
    "duration": 11,
    "start_time": "2022-11-11T15:20:39.884Z"
   },
   {
    "duration": 122,
    "start_time": "2022-11-11T15:20:39.897Z"
   },
   {
    "duration": 0,
    "start_time": "2022-11-11T15:20:40.020Z"
   },
   {
    "duration": 100,
    "start_time": "2022-11-11T15:20:51.624Z"
   },
   {
    "duration": 12,
    "start_time": "2022-11-11T15:22:57.623Z"
   },
   {
    "duration": 17,
    "start_time": "2022-11-11T15:24:58.423Z"
   },
   {
    "duration": 19,
    "start_time": "2022-11-11T15:25:45.772Z"
   },
   {
    "duration": 22,
    "start_time": "2022-11-11T15:26:18.318Z"
   },
   {
    "duration": 90,
    "start_time": "2022-11-11T15:26:25.958Z"
   },
   {
    "duration": 93,
    "start_time": "2022-11-11T15:26:33.485Z"
   },
   {
    "duration": 17,
    "start_time": "2022-11-11T15:26:48.158Z"
   },
   {
    "duration": 15,
    "start_time": "2022-11-11T15:27:07.294Z"
   },
   {
    "duration": 17,
    "start_time": "2022-11-11T15:29:25.567Z"
   },
   {
    "duration": 87,
    "start_time": "2022-11-11T15:32:37.899Z"
   },
   {
    "duration": 22,
    "start_time": "2022-11-11T15:32:44.313Z"
   },
   {
    "duration": 12,
    "start_time": "2022-11-11T15:33:02.459Z"
   },
   {
    "duration": 21,
    "start_time": "2022-11-11T15:33:15.157Z"
   },
   {
    "duration": 16,
    "start_time": "2022-11-11T15:33:32.810Z"
   },
   {
    "duration": 17,
    "start_time": "2022-11-11T15:33:46.987Z"
   },
   {
    "duration": 17,
    "start_time": "2022-11-11T15:34:19.571Z"
   },
   {
    "duration": 124,
    "start_time": "2022-11-11T15:34:51.307Z"
   },
   {
    "duration": 16,
    "start_time": "2022-11-11T15:34:54.499Z"
   },
   {
    "duration": 16,
    "start_time": "2022-11-11T15:34:58.666Z"
   },
   {
    "duration": 29,
    "start_time": "2022-11-11T15:41:42.448Z"
   }
  ],
  "kernelspec": {
   "display_name": "Python 3 (ipykernel)",
   "language": "python",
   "name": "python3"
  },
  "language_info": {
   "codemirror_mode": {
    "name": "ipython",
    "version": 3
   },
   "file_extension": ".py",
   "mimetype": "text/x-python",
   "name": "python",
   "nbconvert_exporter": "python",
   "pygments_lexer": "ipython3",
   "version": "3.10.7"
  },
  "toc": {
   "base_numbering": 1,
   "nav_menu": {},
   "number_sections": true,
   "sideBar": true,
   "skip_h1_title": true,
   "title_cell": "Table of Contents",
   "title_sidebar": "Contents",
   "toc_cell": false,
   "toc_position": {},
   "toc_section_display": true,
   "toc_window_display": false
  }
 },
 "nbformat": 4,
 "nbformat_minor": 4
}
