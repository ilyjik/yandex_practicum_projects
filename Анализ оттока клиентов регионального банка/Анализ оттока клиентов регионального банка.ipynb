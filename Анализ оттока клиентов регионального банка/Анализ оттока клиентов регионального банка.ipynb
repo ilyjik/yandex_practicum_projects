{
 "cells": [
  {
   "cell_type": "markdown",
   "metadata": {},
   "source": [
    "<h1>Описание проекта</h1>"
   ]
  },
  {
   "cell_type": "markdown",
   "metadata": {},
   "source": [
    "Необходимо проанализировать клиентов регионального банка и выделить сегменты клиентов, которые склонны уходить из банка, проверить статистические гипотезы."
   ]
  },
  {
   "cell_type": "markdown",
   "metadata": {},
   "source": [
    "<h1>Описание данных</h1>"
   ]
  },
  {
   "cell_type": "markdown",
   "metadata": {},
   "source": [
    "- `userid` — идентификатор пользователя,\n",
    "- `score` — баллы кредитного скоринга,\n",
    "- `City` — город,\n",
    "- `Gender` — пол,\n",
    "- `Age` — возраст,\n",
    "- `Objects` — количество объектов в собственности,\n",
    "- `Balance` — баланс на счёте,\n",
    "- `Products` — количество продуктов, которыми пользуется клиент,\n",
    "- `CreditCard` — есть ли кредитная карта,\n",
    "- `Loyalty` — активный клиент,\n",
    "- `estimated_salary` — заработная плата клиента,\n",
    "- `Churn` — ушёл или нет."
   ]
  },
  {
   "cell_type": "markdown",
   "metadata": {},
   "source": [
    "<h1>Содержание</h1>"
   ]
  },
  {
   "cell_type": "markdown",
   "metadata": {},
   "source": [
    "1. [Загрузка данных и подготовка к анализу](#preprocessing)\n",
    "2. [Анализ данных](#analysis)\n",
    "3. [Проверка гипотез](#hypothesis)\n",
    "4. [Выводы и рекомендации](#conclusion)"
   ]
  },
  {
   "cell_type": "markdown",
   "metadata": {},
   "source": [
    "# Презентация"
   ]
  },
  {
   "cell_type": "markdown",
   "metadata": {},
   "source": [
    "https://disk.yandex.ru/i/559MSfA9unUAag"
   ]
  },
  {
   "cell_type": "markdown",
   "metadata": {},
   "source": [
    "<a id=\"preprocessing\"> </a>\n",
    "<h2>Загрузка данных и подготовка к анализу</h2>"
   ]
  },
  {
   "cell_type": "markdown",
   "metadata": {},
   "source": [
    "Импортируем библиотеки"
   ]
  },
  {
   "cell_type": "code",
   "execution_count": 71,
   "metadata": {},
   "outputs": [],
   "source": [
    "import pandas as pd\n",
    "import numpy as np\n",
    "import matplotlib.pyplot as plt\n",
    "from io import BytesIO\n",
    "import requests\n",
    "import seaborn as sns\n",
    "from sklearn.model_selection import train_test_split\n",
    "from sklearn.preprocessing import StandardScaler\n",
    "from sklearn.linear_model import LinearRegression\n",
    "from sklearn.ensemble import RandomForestRegressor, GradientBoostingRegressor\n",
    "from sklearn.metrics import mean_absolute_error, mean_squared_error, r2_score\n",
    "from scipy import stats as st"
   ]
  },
  {
   "cell_type": "code",
   "execution_count": 72,
   "metadata": {},
   "outputs": [],
   "source": [
    "spreadsheet_id = '1Dhr_ZlE8V5csbbcNDmezfR4hcQn4c0XIFA5Jz9qeAKI'\n",
    "file_name = 'https://docs.google.com/spreadsheets/d/{}/export?format=csv'.format(spreadsheet_id)\n",
    "r = requests.get(file_name)\n",
    "data = pd.read_csv(BytesIO(r.content))"
   ]
  },
  {
   "cell_type": "code",
   "execution_count": 73,
   "metadata": {},
   "outputs": [
    {
     "name": "stdout",
     "output_type": "stream",
     "text": [
      "<class 'pandas.core.frame.DataFrame'>\n",
      "RangeIndex: 10000 entries, 0 to 9999\n",
      "Data columns (total 12 columns):\n",
      " #   Column            Non-Null Count  Dtype  \n",
      "---  ------            --------------  -----  \n",
      " 0   userid            10000 non-null  int64  \n",
      " 1   score             10000 non-null  int64  \n",
      " 2   City              10000 non-null  object \n",
      " 3   Gender            10000 non-null  object \n",
      " 4   Age               10000 non-null  int64  \n",
      " 5   Objects           10000 non-null  int64  \n",
      " 6   Balance           6383 non-null   float64\n",
      " 7   Products          10000 non-null  int64  \n",
      " 8   CreditCard        10000 non-null  int64  \n",
      " 9   Loyalty           10000 non-null  int64  \n",
      " 10  estimated_salary  10000 non-null  float64\n",
      " 11  Churn             10000 non-null  int64  \n",
      "dtypes: float64(2), int64(8), object(2)\n",
      "memory usage: 937.6+ KB\n"
     ]
    },
    {
     "data": {
      "text/html": [
       "<div>\n",
       "<style scoped>\n",
       "    .dataframe tbody tr th:only-of-type {\n",
       "        vertical-align: middle;\n",
       "    }\n",
       "\n",
       "    .dataframe tbody tr th {\n",
       "        vertical-align: top;\n",
       "    }\n",
       "\n",
       "    .dataframe thead th {\n",
       "        text-align: right;\n",
       "    }\n",
       "</style>\n",
       "<table border=\"1\" class=\"dataframe\">\n",
       "  <thead>\n",
       "    <tr style=\"text-align: right;\">\n",
       "      <th></th>\n",
       "      <th>userid</th>\n",
       "      <th>score</th>\n",
       "      <th>City</th>\n",
       "      <th>Gender</th>\n",
       "      <th>Age</th>\n",
       "      <th>Objects</th>\n",
       "      <th>Balance</th>\n",
       "      <th>Products</th>\n",
       "      <th>CreditCard</th>\n",
       "      <th>Loyalty</th>\n",
       "      <th>estimated_salary</th>\n",
       "      <th>Churn</th>\n",
       "    </tr>\n",
       "  </thead>\n",
       "  <tbody>\n",
       "    <tr>\n",
       "      <th>0</th>\n",
       "      <td>15677338</td>\n",
       "      <td>619</td>\n",
       "      <td>Ярославль</td>\n",
       "      <td>Ж</td>\n",
       "      <td>42</td>\n",
       "      <td>2</td>\n",
       "      <td>NaN</td>\n",
       "      <td>1</td>\n",
       "      <td>1</td>\n",
       "      <td>1</td>\n",
       "      <td>101348.88</td>\n",
       "      <td>1</td>\n",
       "    </tr>\n",
       "    <tr>\n",
       "      <th>1</th>\n",
       "      <td>15690047</td>\n",
       "      <td>608</td>\n",
       "      <td>Рыбинск</td>\n",
       "      <td>Ж</td>\n",
       "      <td>41</td>\n",
       "      <td>1</td>\n",
       "      <td>83807.86</td>\n",
       "      <td>1</td>\n",
       "      <td>0</td>\n",
       "      <td>1</td>\n",
       "      <td>112542.58</td>\n",
       "      <td>0</td>\n",
       "    </tr>\n",
       "    <tr>\n",
       "      <th>2</th>\n",
       "      <td>15662040</td>\n",
       "      <td>502</td>\n",
       "      <td>Ярославль</td>\n",
       "      <td>Ж</td>\n",
       "      <td>42</td>\n",
       "      <td>8</td>\n",
       "      <td>159660.80</td>\n",
       "      <td>3</td>\n",
       "      <td>1</td>\n",
       "      <td>0</td>\n",
       "      <td>113931.57</td>\n",
       "      <td>1</td>\n",
       "    </tr>\n",
       "    <tr>\n",
       "      <th>3</th>\n",
       "      <td>15744090</td>\n",
       "      <td>699</td>\n",
       "      <td>Ярославль</td>\n",
       "      <td>Ж</td>\n",
       "      <td>39</td>\n",
       "      <td>1</td>\n",
       "      <td>NaN</td>\n",
       "      <td>2</td>\n",
       "      <td>0</td>\n",
       "      <td>0</td>\n",
       "      <td>93826.63</td>\n",
       "      <td>0</td>\n",
       "    </tr>\n",
       "    <tr>\n",
       "      <th>4</th>\n",
       "      <td>15780624</td>\n",
       "      <td>850</td>\n",
       "      <td>Рыбинск</td>\n",
       "      <td>Ж</td>\n",
       "      <td>43</td>\n",
       "      <td>2</td>\n",
       "      <td>125510.82</td>\n",
       "      <td>1</td>\n",
       "      <td>1</td>\n",
       "      <td>1</td>\n",
       "      <td>79084.10</td>\n",
       "      <td>0</td>\n",
       "    </tr>\n",
       "  </tbody>\n",
       "</table>\n",
       "</div>"
      ],
      "text/plain": [
       "     userid  score       City Gender  Age  Objects    Balance  Products  \\\n",
       "0  15677338    619  Ярославль      Ж   42        2        NaN         1   \n",
       "1  15690047    608    Рыбинск      Ж   41        1   83807.86         1   \n",
       "2  15662040    502  Ярославль      Ж   42        8  159660.80         3   \n",
       "3  15744090    699  Ярославль      Ж   39        1        NaN         2   \n",
       "4  15780624    850    Рыбинск      Ж   43        2  125510.82         1   \n",
       "\n",
       "   CreditCard  Loyalty  estimated_salary  Churn  \n",
       "0           1        1         101348.88      1  \n",
       "1           0        1         112542.58      0  \n",
       "2           1        0         113931.57      1  \n",
       "3           0        0          93826.63      0  \n",
       "4           1        1          79084.10      0  "
      ]
     },
     "execution_count": 73,
     "metadata": {},
     "output_type": "execute_result"
    }
   ],
   "source": [
    "data.info()\n",
    "data.head()"
   ]
  },
  {
   "cell_type": "markdown",
   "metadata": {},
   "source": [
    "Изменим стили заголовков"
   ]
  },
  {
   "cell_type": "code",
   "execution_count": 74,
   "metadata": {
    "scrolled": true
   },
   "outputs": [
    {
     "data": {
      "text/plain": [
       "Index(['user_id', 'score', 'city', 'gender', 'age', 'objects', 'balance',\n",
       "       'products', 'credit_card', 'loyalty', 'estimated_salary', 'churn'],\n",
       "      dtype='object')"
      ]
     },
     "execution_count": 74,
     "metadata": {},
     "output_type": "execute_result"
    }
   ],
   "source": [
    "data.columns = data.columns.str.lower()\n",
    "data = data.rename(columns={'userid' : 'user_id', 'creditcard' : 'credit_card'})\n",
    "data.columns"
   ]
  },
  {
   "cell_type": "markdown",
   "metadata": {},
   "source": [
    "Исследуем данные на наличие явных дубликатов"
   ]
  },
  {
   "cell_type": "code",
   "execution_count": 75,
   "metadata": {},
   "outputs": [
    {
     "data": {
      "text/plain": [
       "0"
      ]
     },
     "execution_count": 75,
     "metadata": {},
     "output_type": "execute_result"
    }
   ],
   "source": [
    "data.drop('user_id', axis=1).duplicated().sum()"
   ]
  },
  {
   "cell_type": "markdown",
   "metadata": {},
   "source": [
    "Явных дубликатов не обнаружено"
   ]
  },
  {
   "cell_type": "markdown",
   "metadata": {},
   "source": [
    "Попробуем обработать пропуски с помощью линейной регрессии"
   ]
  },
  {
   "cell_type": "code",
   "execution_count": 76,
   "metadata": {},
   "outputs": [
    {
     "data": {
      "text/plain": [
       "user_id                0\n",
       "score                  0\n",
       "city                   0\n",
       "gender                 0\n",
       "age                    0\n",
       "objects                0\n",
       "balance             3617\n",
       "products               0\n",
       "credit_card            0\n",
       "loyalty                0\n",
       "estimated_salary       0\n",
       "churn                  0\n",
       "dtype: int64"
      ]
     },
     "execution_count": 76,
     "metadata": {},
     "output_type": "execute_result"
    }
   ],
   "source": [
    "data.isna().sum()#число пропусков в каждом столбце"
   ]
  },
  {
   "cell_type": "markdown",
   "metadata": {},
   "source": [
    "Заменим все строковые переменные на целочисленные"
   ]
  },
  {
   "cell_type": "code",
   "execution_count": 77,
   "metadata": {
    "scrolled": true
   },
   "outputs": [
    {
     "name": "stdout",
     "output_type": "stream",
     "text": [
      "<class 'pandas.core.frame.DataFrame'>\n",
      "RangeIndex: 10000 entries, 0 to 9999\n",
      "Data columns (total 12 columns):\n",
      " #   Column            Non-Null Count  Dtype  \n",
      "---  ------            --------------  -----  \n",
      " 0   user_id           10000 non-null  int64  \n",
      " 1   score             10000 non-null  int64  \n",
      " 2   city              10000 non-null  int64  \n",
      " 3   gender            10000 non-null  int64  \n",
      " 4   age               10000 non-null  int64  \n",
      " 5   objects           10000 non-null  int64  \n",
      " 6   balance           6383 non-null   float64\n",
      " 7   products          10000 non-null  int64  \n",
      " 8   credit_card       10000 non-null  int64  \n",
      " 9   loyalty           10000 non-null  int64  \n",
      " 10  estimated_salary  10000 non-null  float64\n",
      " 11  churn             10000 non-null  int64  \n",
      "dtypes: float64(2), int64(10)\n",
      "memory usage: 937.6 KB\n"
     ]
    }
   ],
   "source": [
    "data['gender'] = data['gender'].replace('Ж', '0')\n",
    "data['gender'] = data['gender'].replace('М', '1')\n",
    "data['gender'] = data['gender'].astype('int')\n",
    "data['city'] = data['city'].replace('Ярославль', '0')\n",
    "data['city'] = data['city'].replace('Ростов Великий', '1')\n",
    "data['city'] = data['city'].replace('Рыбинск', '2')\n",
    "data['city'] = data['city'].astype('int')\n",
    "data.info()"
   ]
  },
  {
   "cell_type": "markdown",
   "metadata": {},
   "source": [
    "Обучим модель на данных без пропусков"
   ]
  },
  {
   "cell_type": "code",
   "execution_count": 78,
   "metadata": {},
   "outputs": [],
   "source": [
    "df = data.dropna(axis=0).reset_index(drop=True)\n",
    "X = df.drop('balance', axis=1)\n",
    "y = df['balance']\n",
    "\n",
    "x_train, x_test, y_train, y_test = train_test_split(X, y, test_size=0.2, random_state=0)\n",
    "\n",
    "scaler = StandardScaler()\n",
    "scaler.fit(x_train)\n",
    "\n",
    "x_train_st = scaler.transform(x_train)\n",
    "x_test_st = scaler.transform(x_test)\n",
    "\n"
   ]
  },
  {
   "cell_type": "markdown",
   "metadata": {},
   "source": [
    "Создадим функцию для обучения по одной из моделей"
   ]
  },
  {
   "cell_type": "code",
   "execution_count": 79,
   "metadata": {},
   "outputs": [],
   "source": [
    "def make_prediction(m, x_train, y_train, x_test, y_test):\n",
    "    model = m\n",
    "    model.fit(x_train, y_train)\n",
    "    y_pred = model.predict(x_test)\n",
    "    print('Mean: {:.2f}'.format(y_test.mean()))\n",
    "    print('MAE: {:.2f}'.format(mean_absolute_error(y_test, y_pred)))\n",
    "    print('MSE: {:.2f}'.format(mean_squared_error(y_test, y_pred)))\n",
    "    print('R2: {:.2f}'.format(r2_score(y_test, y_pred)))"
   ]
  },
  {
   "cell_type": "markdown",
   "metadata": {},
   "source": [
    "Используем модель для прогнозирования и посмотрим метрики"
   ]
  },
  {
   "cell_type": "code",
   "execution_count": 80,
   "metadata": {},
   "outputs": [
    {
     "name": "stdout",
     "output_type": "stream",
     "text": [
      "LinearRegression()\n",
      "Mean: 119893.09\n",
      "MAE: 23464.51\n",
      "MSE: 907377491.96\n",
      "R2: -0.00\n",
      "RandomForestRegressor(random_state=0)\n",
      "Mean: 119893.09\n",
      "MAE: 23801.34\n",
      "MSE: 934144304.11\n",
      "R2: -0.03\n",
      "GradientBoostingRegressor(random_state=0)\n",
      "Mean: 119893.09\n",
      "MAE: 23691.76\n",
      "MSE: 926731948.35\n",
      "R2: -0.02\n"
     ]
    }
   ],
   "source": [
    "models = [LinearRegression(), RandomForestRegressor(n_estimators = 100, random_state=0), GradientBoostingRegressor(n_estimators = 100, random_state=0)]\n",
    "for i in models:\n",
    "    print(i)\n",
    "    make_prediction(i, x_train_st, y_train, x_test_st, y_test)"
   ]
  },
  {
   "cell_type": "markdown",
   "metadata": {},
   "source": [
    "Все метрики показывают ужасные результаты, значит отвергаем идею применения ML"
   ]
  },
  {
   "cell_type": "markdown",
   "metadata": {},
   "source": [
    "Оставим пустые значения как есть"
   ]
  },
  {
   "cell_type": "markdown",
   "metadata": {},
   "source": [
    "Предобработка данных проведена, можно приступать к анализу"
   ]
  },
  {
   "cell_type": "markdown",
   "metadata": {},
   "source": [
    "<a id=\"analysis\"> </a>\n",
    "<h2>Анализ данных</h2>"
   ]
  },
  {
   "cell_type": "markdown",
   "metadata": {},
   "source": [
    "Посмотрим на средние значения признаков для двух групп: тех, кто ушли, и тех, кто остались"
   ]
  },
  {
   "cell_type": "code",
   "execution_count": 81,
   "metadata": {},
   "outputs": [
    {
     "data": {
      "text/html": [
       "<div>\n",
       "<style scoped>\n",
       "    .dataframe tbody tr th:only-of-type {\n",
       "        vertical-align: middle;\n",
       "    }\n",
       "\n",
       "    .dataframe tbody tr th {\n",
       "        vertical-align: top;\n",
       "    }\n",
       "\n",
       "    .dataframe thead th {\n",
       "        text-align: right;\n",
       "    }\n",
       "</style>\n",
       "<table border=\"1\" class=\"dataframe\">\n",
       "  <thead>\n",
       "    <tr style=\"text-align: right;\">\n",
       "      <th></th>\n",
       "      <th>user_id</th>\n",
       "      <th>score</th>\n",
       "      <th>city</th>\n",
       "      <th>gender</th>\n",
       "      <th>age</th>\n",
       "      <th>objects</th>\n",
       "      <th>balance</th>\n",
       "      <th>products</th>\n",
       "      <th>credit_card</th>\n",
       "      <th>loyalty</th>\n",
       "      <th>estimated_salary</th>\n",
       "    </tr>\n",
       "    <tr>\n",
       "      <th>churn</th>\n",
       "      <th></th>\n",
       "      <th></th>\n",
       "      <th></th>\n",
       "      <th></th>\n",
       "      <th></th>\n",
       "      <th></th>\n",
       "      <th></th>\n",
       "      <th></th>\n",
       "      <th></th>\n",
       "      <th></th>\n",
       "      <th></th>\n",
       "    </tr>\n",
       "  </thead>\n",
       "  <tbody>\n",
       "    <tr>\n",
       "      <th>0</th>\n",
       "      <td>1.573390e+07</td>\n",
       "      <td>651.853196</td>\n",
       "      <td>0.731257</td>\n",
       "      <td>0.572523</td>\n",
       "      <td>37.408389</td>\n",
       "      <td>5.033279</td>\n",
       "      <td>119535.864270</td>\n",
       "      <td>1.544267</td>\n",
       "      <td>0.707146</td>\n",
       "      <td>0.554565</td>\n",
       "      <td>99738.391772</td>\n",
       "    </tr>\n",
       "    <tr>\n",
       "      <th>1</th>\n",
       "      <td>1.573279e+07</td>\n",
       "      <td>645.351497</td>\n",
       "      <td>0.805106</td>\n",
       "      <td>0.440844</td>\n",
       "      <td>44.837997</td>\n",
       "      <td>4.932744</td>\n",
       "      <td>120746.971132</td>\n",
       "      <td>1.475209</td>\n",
       "      <td>0.699067</td>\n",
       "      <td>0.360825</td>\n",
       "      <td>101465.677531</td>\n",
       "    </tr>\n",
       "  </tbody>\n",
       "</table>\n",
       "</div>"
      ],
      "text/plain": [
       "            user_id       score      city    gender        age   objects  \\\n",
       "churn                                                                      \n",
       "0      1.573390e+07  651.853196  0.731257  0.572523  37.408389  5.033279   \n",
       "1      1.573279e+07  645.351497  0.805106  0.440844  44.837997  4.932744   \n",
       "\n",
       "             balance  products  credit_card   loyalty  estimated_salary  \n",
       "churn                                                                    \n",
       "0      119535.864270  1.544267     0.707146  0.554565      99738.391772  \n",
       "1      120746.971132  1.475209     0.699067  0.360825     101465.677531  "
      ]
     },
     "execution_count": 81,
     "metadata": {},
     "output_type": "execute_result"
    }
   ],
   "source": [
    "data.groupby('churn').mean()"
   ]
  },
  {
   "cell_type": "markdown",
   "metadata": {},
   "source": [
    "3 признака достаточно сильно различаются: gender, age, loyalty"
   ]
  },
  {
   "cell_type": "markdown",
   "metadata": {},
   "source": [
    "Построим столбчатые гистограммы и распределения признаков"
   ]
  },
  {
   "cell_type": "code",
   "execution_count": 82,
   "metadata": {},
   "outputs": [
    {
     "data": {
      "image/png": "[encoded data removed]",
      "text/plain": [
       "<Figure size 1000x300 with 1 Axes>"
      ]
     },
     "metadata": {
      "needs_background": "light"
     },
     "output_type": "display_data"
    },
    {
     "data": {
      "image/png": "[encoded data removed]",
      "text/plain": [
       "<Figure size 1000x300 with 1 Axes>"
      ]
     },
     "metadata": {
      "needs_background": "light"
     },
     "output_type": "display_data"
    },
    {
     "data": {
      "image/png": "[encoded data removed]",
      "text/plain": [
       "<Figure size 1000x300 with 1 Axes>"
      ]
     },
     "metadata": {
      "needs_background": "light"
     },
     "output_type": "display_data"
    },
    {
     "data": {
      "image/png": "[encoded data removed]",
      "text/plain": [
       "<Figure size 1000x300 with 1 Axes>"
      ]
     },
     "metadata": {
      "needs_background": "light"
     },
     "output_type": "display_data"
    },
    {
     "data": {
      "image/png": "[encoded data removed]",
      "text/plain": [
       "<Figure size 1000x300 with 1 Axes>"
      ]
     },
     "metadata": {
      "needs_background": "light"
     },
     "output_type": "display_data"
    },
    {
     "data": {
      "image/png": "[encoded data removed]",
      "text/plain": [
       "<Figure size 1000x300 with 1 Axes>"
      ]
     },
     "metadata": {
      "needs_background": "light"
     },
     "output_type": "display_data"
    },
    {
     "data": {
      "image/png": "[encoded data removed]",
      "text/plain": [
       "<Figure size 1000x300 with 1 Axes>"
      ]
     },
     "metadata": {
      "needs_background": "light"
     },
     "output_type": "display_data"
    },
    {
     "data": {
      "image/png": "[encoded data removed]",
      "text/plain": [
       "<Figure size 1000x300 with 1 Axes>"
      ]
     },
     "metadata": {
      "needs_background": "light"
     },
     "output_type": "display_data"
    },
    {
     "data": {
      "image/png": "[encoded data removed]",
      "text/plain": [
       "<Figure size 1000x300 with 1 Axes>"
      ]
     },
     "metadata": {
      "needs_background": "light"
     },
     "output_type": "display_data"
    },
    {
     "data": {
      "image/png": "[encoded data removed]",
      "text/plain": [
       "<Figure size 1000x300 with 1 Axes>"
      ]
     },
     "metadata": {
      "needs_background": "light"
     },
     "output_type": "display_data"
    },
    {
     "data": {
      "image/png": "[encoded data removed]",
      "text/plain": [
       "<Figure size 1000x300 with 1 Axes>"
      ]
     },
     "metadata": {
      "needs_background": "light"
     },
     "output_type": "display_data"
    }
   ],
   "source": [
    "for i in data.columns[:11]:\n",
    "    fig, ax = plt.subplots(figsize=(10,3), dpi=100)    \n",
    "    sns.histplot(x=i, data = data, hue='churn', multiple='dodge')\n",
    "    plt.title('Гистограмма по столбцу ' + i)"
   ]
  },
  {
   "cell_type": "markdown",
   "metadata": {},
   "source": [
    "Постороим круговые диграммы"
   ]
  },
  {
   "cell_type": "code",
   "execution_count": 83,
   "metadata": {},
   "outputs": [
    {
     "data": {
      "image/png": "[encoded data removed]",
      "text/plain": [
       "<Figure size 990x270 with 2 Axes>"
      ]
     },
     "metadata": {},
     "output_type": "display_data"
    },
    {
     "data": {
      "image/png": "[encoded data removed]",
      "text/plain": [
       "<Figure size 990x270 with 2 Axes>"
      ]
     },
     "metadata": {},
     "output_type": "display_data"
    },
    {
     "data": {
      "image/png": "[encoded data removed]",
      "text/plain": [
       "<Figure size 990x270 with 2 Axes>"
      ]
     },
     "metadata": {},
     "output_type": "display_data"
    },
    {
     "data": {
      "image/png": "[encoded data removed]",
      "text/plain": [
       "<Figure size 990x270 with 2 Axes>"
      ]
     },
     "metadata": {},
     "output_type": "display_data"
    },
    {
     "data": {
      "image/png": "[encoded data removed]",
      "text/plain": [
       "<Figure size 990x270 with 2 Axes>"
      ]
     },
     "metadata": {},
     "output_type": "display_data"
    }
   ],
   "source": [
    "for i in data[['city', 'gender', 'products', 'credit_card', 'loyalty']].columns:\n",
    "    fig, ax = plt.subplots(figsize=(11,3), dpi=90) \n",
    "    plt.subplot(121)\n",
    "    plt.pie(x='churn', data = data[data['churn'] == 0][[i, 'churn']].groupby(i).count().reset_index(), labels=i, autopct='%.0f%%')\n",
    "    plt.title('Диаграмма по столбцу ' + i + ', когда churn = 0')\n",
    "    plt.subplot(122)\n",
    "    plt.pie(x='churn', data = data[data['churn'] == 1][[i, 'churn']].groupby(i).count().reset_index(), labels=i, autopct='%.0f%%')\n",
    "    plt.title('Диаграмма по столбцу ' + i + ', когда churn = 1')\n",
    "    plt.show()"
   ]
  },
  {
   "cell_type": "markdown",
   "metadata": {},
   "source": [
    "Построим матрицу корреляций"
   ]
  },
  {
   "cell_type": "code",
   "execution_count": 84,
   "metadata": {},
   "outputs": [
    {
     "name": "stdout",
     "output_type": "stream",
     "text": [
      "Корреляция столбца churn со столбцом user_id\n",
      "-0.01\n",
      "Корреляция столбца churn со столбцом score\n",
      "-0.03\n",
      "Корреляция столбца churn со столбцом city\n",
      "0.04\n",
      "Корреляция столбца churn со столбцом gender\n",
      "-0.11\n",
      "Корреляция столбца churn со столбцом age\n",
      "0.29\n",
      "Корреляция столбца churn со столбцом objects\n",
      "-0.01\n",
      "Корреляция столбца churn со столбцом balance\n",
      "0.02\n",
      "Корреляция столбца churn со столбцом products\n",
      "-0.05\n",
      "Корреляция столбца churn со столбцом credit_card\n",
      "-0.01\n",
      "Корреляция столбца churn со столбцом loyalty\n",
      "-0.16\n",
      "Корреляция столбца churn со столбцом estimated_salary\n",
      "0.01\n"
     ]
    }
   ],
   "source": [
    "for i in data.columns[:11]:\n",
    "    print('Корреляция столбца churn со столбцом '+i)\n",
    "    print(data['churn'].corr(data[i]).round(2))"
   ]
  },
  {
   "cell_type": "code",
   "execution_count": 85,
   "metadata": {},
   "outputs": [
    {
     "data": {
      "image/png": "[encoded data removed]",
      "text/plain": [
       "<Figure size 800x800 with 2 Axes>"
      ]
     },
     "metadata": {
      "needs_background": "light"
     },
     "output_type": "display_data"
    }
   ],
   "source": [
    "matrix = np.triu(data.corr())\n",
    "fig, ax = fig, ax = plt.subplots(figsize=(8,8), dpi=100)   \n",
    "\n",
    "sns.heatmap(data.corr().round(2), annot=True, square=True, mask = matrix)\n",
    "plt.show()"
   ]
  },
  {
   "cell_type": "markdown",
   "metadata": {},
   "source": [
    "Среди всех столбцов наиболее ярко выделяется столбец age. Корреляция с ним составляет 0.285, что находится на границе между слабой и средней корреляцией. Все остальные столбцы коррелируют слабо"
   ]
  },
  {
   "cell_type": "markdown",
   "metadata": {},
   "source": [
    "Видим, что больше склонны к оттоку:\n",
    "1. Клиенты из Ростова Великого - думаю это связано с малой доступностью банка в этом городе\n",
    "2. Женщины - возможно, некоторая часть женщин использует банковские услуги и продукты своего мужа (например, оплачивает покупки его дебетовой/кредитной картой), и перестает пользоваться услугами своего банка\n",
    "3. Клиенты, которые пользуются 1 продуктом - возможно клиентов интересует какой-то конкретный продукт, которым они пользвуются некоторое время и потом уходят\n",
    "4. Неактивные клиенты - клиенты редко пользуются продуктами банка и в какой-то момент уходят за ненадобостью\n",
    "5. Клиенты 40+ лет - возможно, большая часть клиентов после 40 лет завершают свои выплаты по ипотеке и уходят из банка"
   ]
  },
  {
   "cell_type": "markdown",
   "metadata": {},
   "source": [
    "<a id=\"hypothesis\"> </a>\n",
    "## Проверка гипотез"
   ]
  },
  {
   "cell_type": "markdown",
   "metadata": {},
   "source": [
    "Проверим данные на нормальность с помощью критерия Колмогорова"
   ]
  },
  {
   "cell_type": "code",
   "execution_count": 86,
   "metadata": {},
   "outputs": [
    {
     "name": "stdout",
     "output_type": "stream",
     "text": [
      "Столбец estimated_salary\n",
      "Не получилось отвергнуть нулевую гипотезу, всё нормально\n",
      "Столбец score\n",
      "Не получилось отвергнуть нулевую гипотезу, всё нормально\n"
     ]
    }
   ],
   "source": [
    "for i in ['estimated_salary', 'score']:\n",
    "    alpha = 0.05\n",
    "    st.kstest(data[i],  st.norm.cdf)\n",
    "    p_value = results[1]\n",
    "    print('Столбец ' + i)\n",
    "    if p_value < alpha:\n",
    "        print('Отвергаем нулевую гипотезу: распределение не нормально')\n",
    "    else:\n",
    "        print('Не получилось отвергнуть нулевую гипотезу, всё нормально') "
   ]
  },
  {
   "cell_type": "markdown",
   "metadata": {},
   "source": [
    "1. Средний доход у клиентов, которые ушли отличается от дохода клиентов, которые остались.\n",
    "\n",
    "Исходя из выражения выше, формируем нулевую и альтернаятивную гипотезы:\n",
    "\n",
    "Н0 - Средний доход для обеих групп клиентов равен;\n",
    "Н1 - Средний доход для обеих групп клиентов отличается\n",
    "\n",
    "Проверку нулевой гипотезы проведем с помощью теста Уилкоксона-Манна-Уитни, т.к. данные распределены не нормально"
   ]
  },
  {
   "cell_type": "code",
   "execution_count": 87,
   "metadata": {},
   "outputs": [
    {
     "name": "stdout",
     "output_type": "stream",
     "text": [
      "p-значение: 0.22705150930153783\n",
      "Не получилось отвергнуть нулевую гипотезу\n"
     ]
    }
   ],
   "source": [
    "alpha = 0.05\n",
    "results = st.mannwhitneyu(\n",
    "    data[data['churn'] == 0]['estimated_salary'], \n",
    "    data[data['churn'] == 1]['estimated_salary'],\n",
    ")\n",
    "print('p-значение:', results.pvalue)\n",
    "\n",
    "if results.pvalue < alpha:\n",
    "    print(\"Отвергаем нулевую гипотезу\")\n",
    "else:\n",
    "    print(\"Не получилось отвергнуть нулевую гипотезу\") "
   ]
  },
  {
   "cell_type": "markdown",
   "metadata": {},
   "source": [
    "Значит в значении среднего дохода для обеих групп нет статистически важной разницы"
   ]
  },
  {
   "cell_type": "code",
   "execution_count": 88,
   "metadata": {},
   "outputs": [
    {
     "name": "stdout",
     "output_type": "stream",
     "text": [
      "99738.39177194524\n"
     ]
    },
    {
     "data": {
      "text/plain": [
       "101465.67753068237"
      ]
     },
     "execution_count": 88,
     "metadata": {},
     "output_type": "execute_result"
    }
   ],
   "source": [
    "print(data[data['churn'] == 0]['estimated_salary'].mean())\n",
    "data[data['churn'] == 1]['estimated_salary'].mean()"
   ]
  },
  {
   "cell_type": "markdown",
   "metadata": {},
   "source": [
    "1. Среднее количество баллов кредитного рейтинга у клиентов, которые ушли отличается от баллов клиентов, которые остались.\n",
    "\n",
    "Исходя из выражения выше, формируем нулевую и альтернаятивную гипотезы:\n",
    "\n",
    "Н0 - Среднее число баллов для обеих групп клиентов равно;\n",
    "Н1 - Среднее число баллов для обеих групп клиентов отличается\n",
    "\n",
    "Проверку нулевой гипотезы проведем с помощью теста Уилкоксона-Манна-Уитни, т.к. данные распределены не нормально"
   ]
  },
  {
   "cell_type": "code",
   "execution_count": 91,
   "metadata": {},
   "outputs": [
    {
     "name": "stdout",
     "output_type": "stream",
     "text": [
      "p-значение: 0.01986866117272834\n",
      "Отвергаем нулевую гипотезу\n"
     ]
    }
   ],
   "source": [
    "alpha = 0.05\n",
    "results = st.mannwhitneyu(\n",
    "    data[data['churn'] == 0]['score'], \n",
    "    data[data['churn'] == 1]['score'],\n",
    ")\n",
    "print('p-значение:', results.pvalue)\n",
    "\n",
    "if results.pvalue < alpha:\n",
    "    print(\"Отвергаем нулевую гипотезу\")\n",
    "else:\n",
    "    print(\"Не получилось отвергнуть нулевую гипотезу\") "
   ]
  },
  {
   "cell_type": "markdown",
   "metadata": {},
   "source": [
    "Значит между значением рейтинга для двух групп клиентов существует статистически значимая разница"
   ]
  },
  {
   "cell_type": "code",
   "execution_count": 90,
   "metadata": {},
   "outputs": [
    {
     "name": "stdout",
     "output_type": "stream",
     "text": [
      "651.8531960316463\n"
     ]
    },
    {
     "data": {
      "text/plain": [
       "645.3514972999509"
      ]
     },
     "execution_count": 90,
     "metadata": {},
     "output_type": "execute_result"
    }
   ],
   "source": [
    "print(data[data['churn'] == 0]['score'].mean())\n",
    "data[data['churn'] == 1]['score'].mean()"
   ]
  },
  {
   "cell_type": "markdown",
   "metadata": {},
   "source": [
    "Причем, рейтинг клиентов из группы оттока ниже, чем у оставшихся клиентов"
   ]
  },
  {
   "cell_type": "markdown",
   "metadata": {},
   "source": [
    "<a id=\"conclusion\"> </a>\n",
    "## Выводы и рекомендации"
   ]
  },
  {
   "cell_type": "markdown",
   "metadata": {},
   "source": [
    "В данной работе исследовались причины оттока клиентов из банка. Для этого были изучены средние значения и распределения каждого признака для двух групп клиентов, матрица корреляции признаков и проверены гипотезы: 1. средний доход у клиентов, которые ушли отличается от дохода клиентов, которые остались; 2. среднее количество баллов кредитного рейтинга у клиентов, которые ушли отличается от баллов клиентов, которые остались."
   ]
  },
  {
   "cell_type": "markdown",
   "metadata": {},
   "source": [
    "По результатам исследования имеем, что оттоку подвержены:\n",
    "1. Клиенты из Ростова Великого - думаю это связано с малой доступностью банка в этом городе\n",
    "2. Женщины - возможно, некоторая часть женщин использует банковские услуги и продукты своего мужа (например, оплачивает покупки его дебетовой/кредитной картой), и перестает пользоваться услугами своего банка\n",
    "3. Клиенты, которые пользуются 1 продуктом - возможно клиентов интересует какой-то конкретный продукт, которым они пользвуются некоторое время и потом уходят\n",
    "4. Неактивные клиенты - клиенты редко пользуются продуктами банка и в какой-то момент уходят за ненадобостью\n",
    "5. Клиенты 40+ лет - возможно, большая часть клиентов после 40 лет завершают свои выплаты по ипотеке и уходят из банка\n",
    "6. Клиенты с низким значением кредитного рейтинга (<650) - скорее всего данным клиентам отказывают в выдаче кредита, и они уходят"
   ]
  },
  {
   "cell_type": "markdown",
   "metadata": {},
   "source": [
    "Для уменьшения оттока считаю, что следует предпринять следующее:\n",
    "1. Открыть больше филиалов банка в Ростове Великом / увеличить число поставляемых услуг в этом городе\n",
    "2. Мотивировать использование банковских продуктов женщинами (например, повышенный кешбэк на товары для женщин (косметика, средства для ухаживания за кожей, волосами, украшения и так далее))\n",
    "3. Мотивировать / заинтересовать клиентов на пользование более чем 1 продуктом (например, можно прорекламировать свои продукты, кроме основного)\n",
    "4. Замотивировать клиентов после 40 лет пользоваться продуктами банка (например, выгодные условия кредитования / повышенный кешбэк / повышенный процент вкладов)"
   ]
  }
 ],
 "metadata": {
  "ExecuteTimeLog": [
   {
    "duration": 675,
    "start_time": "2022-10-28T09:26:00.776Z"
   },
   {
    "duration": 61,
    "start_time": "2022-10-28T09:27:22.034Z"
   },
   {
    "duration": 47,
    "start_time": "2022-10-28T09:27:27.238Z"
   },
   {
    "duration": 1903,
    "start_time": "2022-10-28T09:34:34.079Z"
   },
   {
    "duration": 1973,
    "start_time": "2022-10-28T09:35:30.676Z"
   },
   {
    "duration": 7,
    "start_time": "2022-10-28T09:36:57.804Z"
   },
   {
    "duration": 43,
    "start_time": "2022-10-28T09:37:00.163Z"
   },
   {
    "duration": 1038,
    "start_time": "2022-10-28T09:37:00.755Z"
   },
   {
    "duration": 1079,
    "start_time": "2022-10-28T09:39:23.491Z"
   },
   {
    "duration": 17,
    "start_time": "2022-10-28T09:39:29.002Z"
   },
   {
    "duration": 932,
    "start_time": "2022-10-28T09:39:30.883Z"
   },
   {
    "duration": 21,
    "start_time": "2022-10-28T09:39:33.082Z"
   },
   {
    "duration": 3,
    "start_time": "2022-10-28T09:41:23.475Z"
   },
   {
    "duration": 11,
    "start_time": "2022-10-28T09:41:32.795Z"
   },
   {
    "duration": 3,
    "start_time": "2022-10-28T09:41:38.386Z"
   },
   {
    "duration": 4,
    "start_time": "2022-10-28T09:41:44.994Z"
   },
   {
    "duration": 1114,
    "start_time": "2022-10-28T09:42:05.362Z"
   },
   {
    "duration": 79,
    "start_time": "2022-10-28T09:42:37.194Z"
   },
   {
    "duration": 67,
    "start_time": "2022-10-28T09:43:56.425Z"
   },
   {
    "duration": 19,
    "start_time": "2022-10-28T09:44:02.681Z"
   },
   {
    "duration": 3,
    "start_time": "2022-10-28T09:44:11.905Z"
   },
   {
    "duration": 4,
    "start_time": "2022-10-28T09:44:19.784Z"
   },
   {
    "duration": 4,
    "start_time": "2022-10-28T09:44:21.920Z"
   },
   {
    "duration": 5,
    "start_time": "2022-10-28T09:44:24.489Z"
   },
   {
    "duration": 5,
    "start_time": "2022-10-28T09:44:32.489Z"
   },
   {
    "duration": 2,
    "start_time": "2022-10-28T09:44:35.481Z"
   },
   {
    "duration": 1533,
    "start_time": "2022-10-28T09:44:35.680Z"
   },
   {
    "duration": 18,
    "start_time": "2022-10-28T09:44:37.215Z"
   },
   {
    "duration": 5,
    "start_time": "2022-10-28T09:44:37.234Z"
   },
   {
    "duration": 10,
    "start_time": "2022-10-28T09:45:57.934Z"
   },
   {
    "duration": 10,
    "start_time": "2022-10-28T09:47:04.832Z"
   },
   {
    "duration": 9,
    "start_time": "2022-10-28T10:06:02.452Z"
   },
   {
    "duration": 4,
    "start_time": "2022-10-28T10:07:24.955Z"
   },
   {
    "duration": 16,
    "start_time": "2022-10-28T10:09:11.235Z"
   },
   {
    "duration": 6,
    "start_time": "2022-10-28T10:09:14.865Z"
   },
   {
    "duration": 7,
    "start_time": "2022-10-28T10:34:11.867Z"
   },
   {
    "duration": 4,
    "start_time": "2022-10-28T10:34:21.678Z"
   },
   {
    "duration": 703,
    "start_time": "2022-10-28T10:39:38.562Z"
   },
   {
    "duration": 12,
    "start_time": "2022-10-28T10:40:58.836Z"
   },
   {
    "duration": 10,
    "start_time": "2022-10-28T10:41:14.188Z"
   },
   {
    "duration": 3,
    "start_time": "2022-10-28T10:41:17.604Z"
   },
   {
    "duration": 1687,
    "start_time": "2022-10-28T10:41:17.763Z"
   },
   {
    "duration": 19,
    "start_time": "2022-10-28T10:41:19.451Z"
   },
   {
    "duration": 5,
    "start_time": "2022-10-28T10:41:19.471Z"
   },
   {
    "duration": 15,
    "start_time": "2022-10-28T10:41:19.477Z"
   },
   {
    "duration": 5,
    "start_time": "2022-10-28T10:41:19.827Z"
   },
   {
    "duration": 6,
    "start_time": "2022-10-28T10:41:20.739Z"
   },
   {
    "duration": 5,
    "start_time": "2022-10-28T10:41:21.515Z"
   },
   {
    "duration": 5,
    "start_time": "2022-10-28T10:41:22.299Z"
   },
   {
    "duration": 11,
    "start_time": "2022-10-28T10:41:49.556Z"
   },
   {
    "duration": 343,
    "start_time": "2022-10-28T10:42:08.556Z"
   },
   {
    "duration": 6,
    "start_time": "2022-10-28T10:42:15.819Z"
   },
   {
    "duration": 14,
    "start_time": "2022-10-28T10:42:23.187Z"
   },
   {
    "duration": 13,
    "start_time": "2022-10-28T10:42:30.316Z"
   },
   {
    "duration": 19,
    "start_time": "2022-10-28T10:43:09.748Z"
   },
   {
    "duration": 13,
    "start_time": "2022-10-28T10:46:01.819Z"
   },
   {
    "duration": 12,
    "start_time": "2022-10-28T10:46:14.778Z"
   },
   {
    "duration": 8,
    "start_time": "2022-10-28T10:46:45.178Z"
   },
   {
    "duration": 7,
    "start_time": "2022-10-28T10:46:50.378Z"
   },
   {
    "duration": 16,
    "start_time": "2022-10-28T10:47:08.489Z"
   },
   {
    "duration": 10,
    "start_time": "2022-10-28T10:47:11.915Z"
   },
   {
    "duration": 8,
    "start_time": "2022-10-28T10:47:19.338Z"
   },
   {
    "duration": 8,
    "start_time": "2022-10-28T10:47:22.913Z"
   },
   {
    "duration": 7,
    "start_time": "2022-10-28T10:47:28.290Z"
   },
   {
    "duration": 1076,
    "start_time": "2022-10-28T10:48:03.754Z"
   },
   {
    "duration": 8,
    "start_time": "2022-10-28T10:48:14.547Z"
   },
   {
    "duration": 13,
    "start_time": "2022-10-28T10:53:30.777Z"
   },
   {
    "duration": 16,
    "start_time": "2022-10-28T10:53:39.864Z"
   },
   {
    "duration": 15,
    "start_time": "2022-10-28T10:53:45.032Z"
   },
   {
    "duration": 5,
    "start_time": "2022-10-28T10:56:32.767Z"
   },
   {
    "duration": 15,
    "start_time": "2022-10-28T10:56:48.615Z"
   },
   {
    "duration": 14,
    "start_time": "2022-10-28T10:56:59.231Z"
   },
   {
    "duration": 10,
    "start_time": "2022-10-28T10:57:01.646Z"
   },
   {
    "duration": 74,
    "start_time": "2022-10-28T10:57:22.552Z"
   },
   {
    "duration": 12,
    "start_time": "2022-10-28T10:59:01.567Z"
   },
   {
    "duration": 10,
    "start_time": "2022-10-28T10:59:53.872Z"
   },
   {
    "duration": 11,
    "start_time": "2022-10-28T11:00:59.647Z"
   },
   {
    "duration": 14,
    "start_time": "2022-10-28T11:01:03.926Z"
   },
   {
    "duration": 4,
    "start_time": "2022-10-28T11:02:04.558Z"
   },
   {
    "duration": 10,
    "start_time": "2022-10-28T11:02:10.046Z"
   },
   {
    "duration": 10,
    "start_time": "2022-10-28T11:02:12.822Z"
   },
   {
    "duration": 14,
    "start_time": "2022-10-28T11:02:25.174Z"
   },
   {
    "duration": 14,
    "start_time": "2022-10-28T11:02:33.014Z"
   },
   {
    "duration": 2,
    "start_time": "2022-10-28T11:02:55.182Z"
   },
   {
    "duration": 1529,
    "start_time": "2022-10-28T11:02:55.349Z"
   },
   {
    "duration": 19,
    "start_time": "2022-10-28T11:02:56.880Z"
   },
   {
    "duration": 35,
    "start_time": "2022-10-28T11:02:56.900Z"
   },
   {
    "duration": 48,
    "start_time": "2022-10-28T11:02:56.938Z"
   },
   {
    "duration": 27,
    "start_time": "2022-10-28T11:02:56.988Z"
   },
   {
    "duration": 14,
    "start_time": "2022-10-28T11:02:57.017Z"
   },
   {
    "duration": 19,
    "start_time": "2022-10-28T11:02:57.150Z"
   },
   {
    "duration": 14,
    "start_time": "2022-10-28T11:02:57.885Z"
   },
   {
    "duration": 15,
    "start_time": "2022-10-28T11:02:59.310Z"
   },
   {
    "duration": 34,
    "start_time": "2022-10-28T11:02:59.989Z"
   },
   {
    "duration": 13,
    "start_time": "2022-10-28T11:03:00.693Z"
   },
   {
    "duration": 3,
    "start_time": "2022-10-28T11:04:24.253Z"
   },
   {
    "duration": 3,
    "start_time": "2022-10-28T11:04:27.237Z"
   },
   {
    "duration": 1046,
    "start_time": "2022-10-28T11:04:27.748Z"
   },
   {
    "duration": 18,
    "start_time": "2022-10-28T11:04:28.796Z"
   },
   {
    "duration": 5,
    "start_time": "2022-10-28T11:04:28.815Z"
   },
   {
    "duration": 20,
    "start_time": "2022-10-28T11:04:28.822Z"
   },
   {
    "duration": 13,
    "start_time": "2022-10-28T11:04:28.844Z"
   },
   {
    "duration": 10,
    "start_time": "2022-10-28T11:04:28.859Z"
   },
   {
    "duration": 21,
    "start_time": "2022-10-28T11:04:28.871Z"
   },
   {
    "duration": 29,
    "start_time": "2022-10-28T11:04:28.894Z"
   },
   {
    "duration": 12,
    "start_time": "2022-10-28T11:04:28.924Z"
   },
   {
    "duration": 94,
    "start_time": "2022-10-28T11:04:28.938Z"
   },
   {
    "duration": 100,
    "start_time": "2022-10-28T11:04:29.034Z"
   },
   {
    "duration": 245,
    "start_time": "2022-10-28T11:07:25.572Z"
   },
   {
    "duration": 235,
    "start_time": "2022-10-28T11:07:32.765Z"
   },
   {
    "duration": 3,
    "start_time": "2022-10-28T11:07:49.629Z"
   },
   {
    "duration": 1181,
    "start_time": "2022-10-28T11:07:50.132Z"
   },
   {
    "duration": 18,
    "start_time": "2022-10-28T11:07:51.315Z"
   },
   {
    "duration": 49,
    "start_time": "2022-10-28T11:07:51.334Z"
   },
   {
    "duration": 17,
    "start_time": "2022-10-28T11:07:51.386Z"
   },
   {
    "duration": 7,
    "start_time": "2022-10-28T11:07:51.404Z"
   },
   {
    "duration": 14,
    "start_time": "2022-10-28T11:07:51.412Z"
   },
   {
    "duration": 357,
    "start_time": "2022-10-28T11:07:51.427Z"
   },
   {
    "duration": 20,
    "start_time": "2022-10-28T11:07:51.786Z"
   },
   {
    "duration": 26,
    "start_time": "2022-10-28T11:07:51.808Z"
   },
   {
    "duration": 90,
    "start_time": "2022-10-28T11:07:51.836Z"
   },
   {
    "duration": 96,
    "start_time": "2022-10-28T11:07:51.928Z"
   },
   {
    "duration": 105,
    "start_time": "2022-10-28T11:07:52.026Z"
   },
   {
    "duration": 246,
    "start_time": "2022-10-28T11:07:52.133Z"
   },
   {
    "duration": 315,
    "start_time": "2022-10-28T11:08:39.693Z"
   },
   {
    "duration": 299,
    "start_time": "2022-10-28T11:08:44.525Z"
   },
   {
    "duration": 3,
    "start_time": "2022-10-28T11:08:48.125Z"
   },
   {
    "duration": 1059,
    "start_time": "2022-10-28T11:08:48.638Z"
   },
   {
    "duration": 20,
    "start_time": "2022-10-28T11:08:49.699Z"
   },
   {
    "duration": 15,
    "start_time": "2022-10-28T11:08:49.720Z"
   },
   {
    "duration": 16,
    "start_time": "2022-10-28T11:08:49.737Z"
   },
   {
    "duration": 17,
    "start_time": "2022-10-28T11:08:49.755Z"
   },
   {
    "duration": 15,
    "start_time": "2022-10-28T11:08:49.773Z"
   },
   {
    "duration": 468,
    "start_time": "2022-10-28T11:08:49.789Z"
   },
   {
    "duration": 20,
    "start_time": "2022-10-28T11:08:50.259Z"
   },
   {
    "duration": 41,
    "start_time": "2022-10-28T11:08:50.281Z"
   },
   {
    "duration": 12,
    "start_time": "2022-10-28T11:08:50.324Z"
   },
   {
    "duration": 184,
    "start_time": "2022-10-28T11:08:50.338Z"
   },
   {
    "duration": 14,
    "start_time": "2022-10-28T11:08:50.524Z"
   },
   {
    "duration": 431,
    "start_time": "2022-10-28T11:08:50.540Z"
   },
   {
    "duration": 2,
    "start_time": "2022-10-28T11:11:21.741Z"
   },
   {
    "duration": 1135,
    "start_time": "2022-10-28T11:11:22.250Z"
   },
   {
    "duration": 20,
    "start_time": "2022-10-28T11:11:23.387Z"
   },
   {
    "duration": 7,
    "start_time": "2022-10-28T11:11:23.409Z"
   },
   {
    "duration": 12,
    "start_time": "2022-10-28T11:11:23.419Z"
   },
   {
    "duration": 7,
    "start_time": "2022-10-28T11:11:23.433Z"
   },
   {
    "duration": 6,
    "start_time": "2022-10-28T11:11:23.442Z"
   },
   {
    "duration": 323,
    "start_time": "2022-10-28T11:11:23.450Z"
   },
   {
    "duration": 19,
    "start_time": "2022-10-28T11:11:23.774Z"
   },
   {
    "duration": 32,
    "start_time": "2022-10-28T11:11:23.795Z"
   },
   {
    "duration": 0,
    "start_time": "2022-10-28T11:11:23.828Z"
   },
   {
    "duration": 0,
    "start_time": "2022-10-28T11:11:23.829Z"
   },
   {
    "duration": 0,
    "start_time": "2022-10-28T11:11:23.830Z"
   },
   {
    "duration": 0,
    "start_time": "2022-10-28T11:11:23.831Z"
   },
   {
    "duration": 12,
    "start_time": "2022-10-28T11:12:07.108Z"
   },
   {
    "duration": 1333,
    "start_time": "2022-10-28T11:12:07.612Z"
   },
   {
    "duration": 18,
    "start_time": "2022-10-28T11:12:08.946Z"
   },
   {
    "duration": 8,
    "start_time": "2022-10-28T11:12:08.966Z"
   },
   {
    "duration": 10,
    "start_time": "2022-10-28T11:12:08.976Z"
   },
   {
    "duration": 5,
    "start_time": "2022-10-28T11:12:08.988Z"
   },
   {
    "duration": 6,
    "start_time": "2022-10-28T11:12:08.995Z"
   },
   {
    "duration": 332,
    "start_time": "2022-10-28T11:12:09.002Z"
   },
   {
    "duration": 19,
    "start_time": "2022-10-28T11:12:09.335Z"
   },
   {
    "duration": 35,
    "start_time": "2022-10-28T11:12:09.356Z"
   },
   {
    "duration": 128,
    "start_time": "2022-10-28T11:12:28.067Z"
   },
   {
    "duration": 1368,
    "start_time": "2022-10-28T11:12:28.571Z"
   },
   {
    "duration": 22,
    "start_time": "2022-10-28T11:12:29.941Z"
   },
   {
    "duration": 6,
    "start_time": "2022-10-28T11:12:29.965Z"
   },
   {
    "duration": 12,
    "start_time": "2022-10-28T11:12:29.974Z"
   },
   {
    "duration": 35,
    "start_time": "2022-10-28T11:12:29.988Z"
   },
   {
    "duration": 5,
    "start_time": "2022-10-28T11:12:30.024Z"
   },
   {
    "duration": 376,
    "start_time": "2022-10-28T11:12:30.031Z"
   },
   {
    "duration": 29,
    "start_time": "2022-10-28T11:12:30.409Z"
   },
   {
    "duration": 3407,
    "start_time": "2022-10-28T11:12:30.440Z"
   },
   {
    "duration": 16,
    "start_time": "2022-10-28T11:12:33.849Z"
   },
   {
    "duration": 128,
    "start_time": "2022-10-28T11:12:33.867Z"
   },
   {
    "duration": 12,
    "start_time": "2022-10-28T11:12:33.997Z"
   },
   {
    "duration": 340,
    "start_time": "2022-10-28T11:12:34.022Z"
   },
   {
    "duration": 3,
    "start_time": "2022-10-28T11:13:07.468Z"
   },
   {
    "duration": 1160,
    "start_time": "2022-10-28T11:13:07.970Z"
   },
   {
    "duration": 23,
    "start_time": "2022-10-28T11:13:09.132Z"
   },
   {
    "duration": 8,
    "start_time": "2022-10-28T11:13:09.156Z"
   },
   {
    "duration": 20,
    "start_time": "2022-10-28T11:13:09.167Z"
   },
   {
    "duration": 33,
    "start_time": "2022-10-28T11:13:09.189Z"
   },
   {
    "duration": 6,
    "start_time": "2022-10-28T11:13:09.224Z"
   },
   {
    "duration": 366,
    "start_time": "2022-10-28T11:13:09.232Z"
   },
   {
    "duration": 25,
    "start_time": "2022-10-28T11:13:09.600Z"
   },
   {
    "duration": 3160,
    "start_time": "2022-10-28T11:13:09.626Z"
   },
   {
    "duration": 11,
    "start_time": "2022-10-28T11:13:12.789Z"
   },
   {
    "duration": 129,
    "start_time": "2022-10-28T11:13:12.801Z"
   },
   {
    "duration": 13,
    "start_time": "2022-10-28T11:13:12.932Z"
   },
   {
    "duration": 442,
    "start_time": "2022-10-28T11:13:12.947Z"
   },
   {
    "duration": 225,
    "start_time": "2022-10-28T11:15:39.739Z"
   },
   {
    "duration": 53,
    "start_time": "2022-10-28T11:15:55.305Z"
   },
   {
    "duration": 1241,
    "start_time": "2022-10-28T11:15:58.491Z"
   },
   {
    "duration": 5,
    "start_time": "2022-10-28T11:16:22.819Z"
   },
   {
    "duration": 72,
    "start_time": "2022-10-28T11:18:12.186Z"
   },
   {
    "duration": 17,
    "start_time": "2022-10-28T11:18:21.625Z"
   },
   {
    "duration": 3,
    "start_time": "2022-10-28T11:23:32.032Z"
   },
   {
    "duration": 3,
    "start_time": "2022-10-28T11:23:40.992Z"
   },
   {
    "duration": 1595,
    "start_time": "2022-10-28T11:23:41.503Z"
   },
   {
    "duration": 19,
    "start_time": "2022-10-28T11:23:43.099Z"
   },
   {
    "duration": 6,
    "start_time": "2022-10-28T11:23:43.119Z"
   },
   {
    "duration": 11,
    "start_time": "2022-10-28T11:23:43.127Z"
   },
   {
    "duration": 6,
    "start_time": "2022-10-28T11:23:43.139Z"
   },
   {
    "duration": 8,
    "start_time": "2022-10-28T11:23:43.146Z"
   },
   {
    "duration": 296,
    "start_time": "2022-10-28T11:23:46.743Z"
   },
   {
    "duration": 18,
    "start_time": "2022-10-28T11:23:48.966Z"
   },
   {
    "duration": 3,
    "start_time": "2022-10-28T11:26:09.326Z"
   },
   {
    "duration": 3,
    "start_time": "2022-10-28T11:27:08.470Z"
   },
   {
    "duration": 4,
    "start_time": "2022-10-28T11:29:11.774Z"
   },
   {
    "duration": 4,
    "start_time": "2022-10-28T11:29:48.141Z"
   },
   {
    "duration": 3,
    "start_time": "2022-10-28T11:31:10.837Z"
   },
   {
    "duration": 1540,
    "start_time": "2022-10-28T11:31:11.350Z"
   },
   {
    "duration": 19,
    "start_time": "2022-10-28T11:31:12.892Z"
   },
   {
    "duration": 5,
    "start_time": "2022-10-28T11:31:12.912Z"
   },
   {
    "duration": 14,
    "start_time": "2022-10-28T11:31:12.919Z"
   },
   {
    "duration": 6,
    "start_time": "2022-10-28T11:31:12.934Z"
   },
   {
    "duration": 5,
    "start_time": "2022-10-28T11:31:14.518Z"
   },
   {
    "duration": 408,
    "start_time": "2022-10-28T11:31:14.877Z"
   },
   {
    "duration": 24,
    "start_time": "2022-10-28T11:31:16.047Z"
   },
   {
    "duration": 2924,
    "start_time": "2022-10-28T11:31:18.973Z"
   },
   {
    "duration": 11,
    "start_time": "2022-10-28T11:31:35.156Z"
   },
   {
    "duration": 23,
    "start_time": "2022-10-28T11:34:00.309Z"
   },
   {
    "duration": 11,
    "start_time": "2022-10-28T11:34:49.940Z"
   },
   {
    "duration": 4,
    "start_time": "2022-10-28T11:34:58.827Z"
   },
   {
    "duration": 3,
    "start_time": "2022-10-28T11:35:05.951Z"
   },
   {
    "duration": 3,
    "start_time": "2022-10-28T11:35:16.971Z"
   },
   {
    "duration": 1427,
    "start_time": "2022-10-28T11:35:17.476Z"
   },
   {
    "duration": 18,
    "start_time": "2022-10-28T11:35:18.905Z"
   },
   {
    "duration": 6,
    "start_time": "2022-10-28T11:35:18.924Z"
   },
   {
    "duration": 17,
    "start_time": "2022-10-28T11:35:18.932Z"
   },
   {
    "duration": 15,
    "start_time": "2022-10-28T11:35:18.951Z"
   },
   {
    "duration": 16,
    "start_time": "2022-10-28T11:35:18.967Z"
   },
   {
    "duration": 320,
    "start_time": "2022-10-28T11:35:18.984Z"
   },
   {
    "duration": 18,
    "start_time": "2022-10-28T11:35:19.323Z"
   },
   {
    "duration": 2820,
    "start_time": "2022-10-28T11:35:20.403Z"
   },
   {
    "duration": 11,
    "start_time": "2022-10-28T11:35:23.224Z"
   },
   {
    "duration": 32,
    "start_time": "2022-10-28T11:35:23.236Z"
   },
   {
    "duration": 2257,
    "start_time": "2022-10-28T11:35:58.995Z"
   },
   {
    "duration": 12,
    "start_time": "2022-10-28T11:36:01.254Z"
   },
   {
    "duration": 57,
    "start_time": "2022-10-28T11:36:01.908Z"
   },
   {
    "duration": 2199,
    "start_time": "2022-10-28T11:37:25.004Z"
   },
   {
    "duration": 2287,
    "start_time": "2022-10-28T11:37:28.283Z"
   },
   {
    "duration": 67,
    "start_time": "2022-10-28T11:37:30.572Z"
   },
   {
    "duration": 2609,
    "start_time": "2022-10-28T11:37:50.260Z"
   },
   {
    "duration": 18,
    "start_time": "2022-10-28T11:37:52.872Z"
   },
   {
    "duration": 61,
    "start_time": "2022-10-28T11:37:53.131Z"
   },
   {
    "duration": 50,
    "start_time": "2022-10-28T11:40:24.354Z"
   },
   {
    "duration": 3,
    "start_time": "2022-10-28T11:40:43.418Z"
   },
   {
    "duration": 52,
    "start_time": "2022-10-28T11:40:45.691Z"
   },
   {
    "duration": 48,
    "start_time": "2022-10-28T11:41:40.714Z"
   },
   {
    "duration": 11,
    "start_time": "2022-10-28T11:43:42.064Z"
   },
   {
    "duration": 3,
    "start_time": "2022-10-28T11:44:52.649Z"
   },
   {
    "duration": 1675,
    "start_time": "2022-10-28T11:44:53.152Z"
   },
   {
    "duration": 17,
    "start_time": "2022-10-28T11:44:54.829Z"
   },
   {
    "duration": 8,
    "start_time": "2022-10-28T11:44:54.848Z"
   },
   {
    "duration": 10,
    "start_time": "2022-10-28T11:44:54.858Z"
   },
   {
    "duration": 5,
    "start_time": "2022-10-28T11:44:54.870Z"
   },
   {
    "duration": 7,
    "start_time": "2022-10-28T11:44:54.877Z"
   },
   {
    "duration": 341,
    "start_time": "2022-10-28T11:44:54.886Z"
   },
   {
    "duration": 17,
    "start_time": "2022-10-28T11:44:55.229Z"
   },
   {
    "duration": 24,
    "start_time": "2022-10-28T11:44:58.296Z"
   },
   {
    "duration": 11,
    "start_time": "2022-10-28T11:44:59.544Z"
   },
   {
    "duration": 7,
    "start_time": "2022-10-28T11:45:00.320Z"
   },
   {
    "duration": 3,
    "start_time": "2022-10-28T11:45:37.704Z"
   },
   {
    "duration": 1141,
    "start_time": "2022-10-28T11:45:38.214Z"
   },
   {
    "duration": 23,
    "start_time": "2022-10-28T11:45:39.357Z"
   },
   {
    "duration": 6,
    "start_time": "2022-10-28T11:45:39.382Z"
   },
   {
    "duration": 11,
    "start_time": "2022-10-28T11:45:39.390Z"
   },
   {
    "duration": 9,
    "start_time": "2022-10-28T11:45:39.403Z"
   },
   {
    "duration": 9,
    "start_time": "2022-10-28T11:45:39.413Z"
   },
   {
    "duration": 319,
    "start_time": "2022-10-28T11:45:39.424Z"
   },
   {
    "duration": 18,
    "start_time": "2022-10-28T11:45:40.432Z"
   },
   {
    "duration": 21,
    "start_time": "2022-10-28T11:45:44.032Z"
   },
   {
    "duration": 20,
    "start_time": "2022-10-28T11:45:47.845Z"
   },
   {
    "duration": 12,
    "start_time": "2022-10-28T11:45:49.856Z"
   },
   {
    "duration": 10,
    "start_time": "2022-10-28T11:45:50.832Z"
   },
   {
    "duration": 2,
    "start_time": "2022-10-28T11:45:58.969Z"
   },
   {
    "duration": 4,
    "start_time": "2022-10-28T11:46:25.576Z"
   },
   {
    "duration": 3,
    "start_time": "2022-10-28T11:46:57.032Z"
   },
   {
    "duration": 1091,
    "start_time": "2022-10-28T11:46:57.543Z"
   },
   {
    "duration": 22,
    "start_time": "2022-10-28T11:46:58.637Z"
   },
   {
    "duration": 5,
    "start_time": "2022-10-28T11:46:58.660Z"
   },
   {
    "duration": 12,
    "start_time": "2022-10-28T11:46:58.667Z"
   },
   {
    "duration": 7,
    "start_time": "2022-10-28T11:47:00.039Z"
   },
   {
    "duration": 4,
    "start_time": "2022-10-28T11:47:00.615Z"
   },
   {
    "duration": 428,
    "start_time": "2022-10-28T11:47:01.327Z"
   },
   {
    "duration": 17,
    "start_time": "2022-10-28T11:47:03.280Z"
   },
   {
    "duration": 20,
    "start_time": "2022-10-28T11:47:04.664Z"
   },
   {
    "duration": 9,
    "start_time": "2022-10-28T11:47:11.664Z"
   },
   {
    "duration": 13,
    "start_time": "2022-10-28T11:50:50.730Z"
   },
   {
    "duration": 10,
    "start_time": "2022-10-28T11:50:59.263Z"
   },
   {
    "duration": 3,
    "start_time": "2022-10-28T11:51:01.975Z"
   },
   {
    "duration": 3,
    "start_time": "2022-10-28T11:55:30.331Z"
   },
   {
    "duration": 1643,
    "start_time": "2022-10-28T11:55:30.841Z"
   },
   {
    "duration": 20,
    "start_time": "2022-10-28T11:55:32.485Z"
   },
   {
    "duration": 32,
    "start_time": "2022-10-28T11:55:32.506Z"
   },
   {
    "duration": 48,
    "start_time": "2022-10-28T11:55:32.540Z"
   },
   {
    "duration": 35,
    "start_time": "2022-10-28T11:55:32.590Z"
   },
   {
    "duration": 52,
    "start_time": "2022-10-28T11:55:32.626Z"
   },
   {
    "duration": 16,
    "start_time": "2022-10-28T11:55:34.031Z"
   },
   {
    "duration": 4,
    "start_time": "2022-10-28T11:55:38.366Z"
   },
   {
    "duration": 10,
    "start_time": "2022-10-28T11:55:39.253Z"
   },
   {
    "duration": 11,
    "start_time": "2022-10-28T11:55:55.006Z"
   },
   {
    "duration": 10,
    "start_time": "2022-10-28T11:56:00.957Z"
   },
   {
    "duration": 3217,
    "start_time": "2022-10-28T11:56:13.062Z"
   },
   {
    "duration": 10,
    "start_time": "2022-10-28T11:58:23.530Z"
   },
   {
    "duration": 20,
    "start_time": "2022-10-28T11:58:40.349Z"
   },
   {
    "duration": 6450,
    "start_time": "2022-10-28T11:58:44.701Z"
   },
   {
    "duration": 4,
    "start_time": "2022-10-28T11:59:18.981Z"
   },
   {
    "duration": 3474,
    "start_time": "2022-10-28T11:59:21.917Z"
   },
   {
    "duration": 3448,
    "start_time": "2022-10-28T11:59:29.173Z"
   },
   {
    "duration": 3,
    "start_time": "2022-10-28T12:00:28.961Z"
   },
   {
    "duration": 1110,
    "start_time": "2022-10-28T12:00:29.460Z"
   },
   {
    "duration": 20,
    "start_time": "2022-10-28T12:00:30.572Z"
   },
   {
    "duration": 30,
    "start_time": "2022-10-28T12:00:30.594Z"
   },
   {
    "duration": 73,
    "start_time": "2022-10-28T12:00:30.626Z"
   },
   {
    "duration": 20,
    "start_time": "2022-10-28T12:00:30.700Z"
   },
   {
    "duration": 39,
    "start_time": "2022-10-28T12:00:30.721Z"
   },
   {
    "duration": 17,
    "start_time": "2022-10-28T12:00:30.845Z"
   },
   {
    "duration": 4,
    "start_time": "2022-10-28T12:00:32.430Z"
   },
   {
    "duration": 3092,
    "start_time": "2022-10-28T12:00:32.483Z"
   },
   {
    "duration": 10,
    "start_time": "2022-10-28T12:00:35.577Z"
   },
   {
    "duration": 14,
    "start_time": "2022-10-28T12:03:45.205Z"
   },
   {
    "duration": 1557,
    "start_time": "2022-10-28T12:04:29.283Z"
   },
   {
    "duration": 114,
    "start_time": "2022-10-28T12:04:54.363Z"
   },
   {
    "duration": 112,
    "start_time": "2022-10-28T12:05:08.628Z"
   },
   {
    "duration": 126,
    "start_time": "2022-10-28T12:05:28.819Z"
   },
   {
    "duration": 129,
    "start_time": "2022-10-28T12:05:30.795Z"
   },
   {
    "duration": 3403,
    "start_time": "2022-10-28T12:05:59.740Z"
   },
   {
    "duration": 3355,
    "start_time": "2022-10-28T12:07:31.957Z"
   },
   {
    "duration": 1234,
    "start_time": "2022-10-28T12:10:36.697Z"
   },
   {
    "duration": 10,
    "start_time": "2022-10-28T12:11:36.233Z"
   },
   {
    "duration": 14,
    "start_time": "2022-10-28T12:12:33.850Z"
   },
   {
    "duration": 3,
    "start_time": "2022-10-28T12:12:42.378Z"
   },
   {
    "duration": 1740,
    "start_time": "2022-10-28T12:12:42.881Z"
   },
   {
    "duration": 18,
    "start_time": "2022-10-28T12:12:44.624Z"
   },
   {
    "duration": 5,
    "start_time": "2022-10-28T12:12:44.643Z"
   },
   {
    "duration": 13,
    "start_time": "2022-10-28T12:12:44.650Z"
   },
   {
    "duration": 6,
    "start_time": "2022-10-28T12:12:44.665Z"
   },
   {
    "duration": 25,
    "start_time": "2022-10-28T12:12:44.672Z"
   },
   {
    "duration": 33,
    "start_time": "2022-10-28T12:12:44.698Z"
   },
   {
    "duration": 4,
    "start_time": "2022-10-28T12:12:44.732Z"
   },
   {
    "duration": 3449,
    "start_time": "2022-10-28T12:12:44.737Z"
   },
   {
    "duration": 13,
    "start_time": "2022-10-28T12:12:48.188Z"
   },
   {
    "duration": 3095,
    "start_time": "2022-10-28T12:12:48.202Z"
   },
   {
    "duration": 12,
    "start_time": "2022-10-28T12:12:51.299Z"
   },
   {
    "duration": 9,
    "start_time": "2022-10-28T12:13:21.745Z"
   },
   {
    "duration": 11,
    "start_time": "2022-10-28T12:13:34.313Z"
   },
   {
    "duration": 12,
    "start_time": "2022-10-28T12:14:13.930Z"
   },
   {
    "duration": 12,
    "start_time": "2022-10-28T12:14:21.304Z"
   },
   {
    "duration": 108,
    "start_time": "2022-10-28T12:17:10.680Z"
   },
   {
    "duration": 110,
    "start_time": "2022-10-28T12:17:13.256Z"
   },
   {
    "duration": 116,
    "start_time": "2022-10-28T12:19:08.480Z"
   },
   {
    "duration": 0,
    "start_time": "2022-10-28T12:30:11.668Z"
   },
   {
    "duration": 1509,
    "start_time": "2022-10-28T12:31:50.557Z"
   },
   {
    "duration": 2103,
    "start_time": "2022-10-28T12:31:59.132Z"
   },
   {
    "duration": 1205,
    "start_time": "2022-10-28T12:32:19.811Z"
   },
   {
    "duration": 1504,
    "start_time": "2022-10-28T12:32:29.523Z"
   },
   {
    "duration": 1161,
    "start_time": "2022-10-28T12:32:59.169Z"
   },
   {
    "duration": 10,
    "start_time": "2022-10-28T12:33:08.191Z"
   },
   {
    "duration": 12,
    "start_time": "2022-10-28T12:33:18.688Z"
   },
   {
    "duration": 12,
    "start_time": "2022-10-28T12:33:26.336Z"
   },
   {
    "duration": 10,
    "start_time": "2022-10-28T12:33:35.712Z"
   },
   {
    "duration": 10,
    "start_time": "2022-10-28T12:33:42.527Z"
   },
   {
    "duration": 5,
    "start_time": "2022-10-28T12:33:45.647Z"
   },
   {
    "duration": 9,
    "start_time": "2022-10-28T12:34:09.350Z"
   },
   {
    "duration": 3,
    "start_time": "2022-10-28T12:34:14.894Z"
   },
   {
    "duration": 9,
    "start_time": "2022-10-28T12:34:16.014Z"
   },
   {
    "duration": 11,
    "start_time": "2022-10-28T12:34:19.325Z"
   },
   {
    "duration": 76,
    "start_time": "2022-10-28T12:34:32.381Z"
   },
   {
    "duration": 121,
    "start_time": "2022-10-28T12:34:34.820Z"
   },
   {
    "duration": 102723,
    "start_time": "2022-10-28T12:34:47.181Z"
   },
   {
    "duration": 6,
    "start_time": "2022-10-28T12:36:29.906Z"
   },
   {
    "duration": 5,
    "start_time": "2022-10-28T12:36:35.592Z"
   },
   {
    "duration": 10,
    "start_time": "2022-10-28T12:36:47.413Z"
   },
   {
    "duration": 6,
    "start_time": "2022-10-28T12:37:44.014Z"
   },
   {
    "duration": 113,
    "start_time": "2022-10-28T12:38:25.117Z"
   },
   {
    "duration": 4,
    "start_time": "2022-10-28T12:38:36.093Z"
   },
   {
    "duration": 1803,
    "start_time": "2022-10-28T12:38:36.598Z"
   },
   {
    "duration": 18,
    "start_time": "2022-10-28T12:38:38.403Z"
   },
   {
    "duration": 6,
    "start_time": "2022-10-28T12:38:38.423Z"
   },
   {
    "duration": 11,
    "start_time": "2022-10-28T12:38:38.431Z"
   },
   {
    "duration": 5,
    "start_time": "2022-10-28T12:38:38.444Z"
   },
   {
    "duration": 20,
    "start_time": "2022-10-28T12:38:38.451Z"
   },
   {
    "duration": 16,
    "start_time": "2022-10-28T12:38:38.472Z"
   },
   {
    "duration": 3,
    "start_time": "2022-10-28T12:38:38.489Z"
   },
   {
    "duration": 3285,
    "start_time": "2022-10-28T12:38:38.521Z"
   },
   {
    "duration": 23,
    "start_time": "2022-10-28T12:38:41.808Z"
   },
   {
    "duration": 2709,
    "start_time": "2022-10-28T12:38:41.833Z"
   },
   {
    "duration": 123,
    "start_time": "2022-10-28T12:38:44.544Z"
   },
   {
    "duration": 0,
    "start_time": "2022-10-28T12:38:44.669Z"
   },
   {
    "duration": 123,
    "start_time": "2022-10-28T12:40:04.273Z"
   },
   {
    "duration": 2308,
    "start_time": "2022-10-28T12:40:24.385Z"
   },
   {
    "duration": 2186,
    "start_time": "2022-10-28T12:40:40.768Z"
   },
   {
    "duration": 348,
    "start_time": "2022-10-28T12:40:56.623Z"
   },
   {
    "duration": 327,
    "start_time": "2022-10-28T12:41:09.279Z"
   },
   {
    "duration": 7,
    "start_time": "2022-10-28T12:41:51.432Z"
   },
   {
    "duration": 3,
    "start_time": "2022-10-28T12:41:58.469Z"
   },
   {
    "duration": 1248,
    "start_time": "2022-10-28T12:41:58.978Z"
   },
   {
    "duration": 19,
    "start_time": "2022-10-28T12:42:00.228Z"
   },
   {
    "duration": 7,
    "start_time": "2022-10-28T12:42:00.248Z"
   },
   {
    "duration": 11,
    "start_time": "2022-10-28T12:42:00.256Z"
   },
   {
    "duration": 7,
    "start_time": "2022-10-28T12:42:00.269Z"
   },
   {
    "duration": 22,
    "start_time": "2022-10-28T12:42:00.278Z"
   },
   {
    "duration": 33,
    "start_time": "2022-10-28T12:42:00.302Z"
   },
   {
    "duration": 3,
    "start_time": "2022-10-28T12:42:00.336Z"
   },
   {
    "duration": 3153,
    "start_time": "2022-10-28T12:42:00.340Z"
   },
   {
    "duration": 13,
    "start_time": "2022-10-28T12:42:03.495Z"
   },
   {
    "duration": 2765,
    "start_time": "2022-10-28T12:42:03.510Z"
   },
   {
    "duration": 352,
    "start_time": "2022-10-28T12:42:06.276Z"
   },
   {
    "duration": 11,
    "start_time": "2022-10-28T12:42:06.629Z"
   },
   {
    "duration": 15,
    "start_time": "2022-10-28T12:42:06.642Z"
   },
   {
    "duration": 349,
    "start_time": "2022-10-28T12:42:43.276Z"
   },
   {
    "duration": 352,
    "start_time": "2022-10-28T12:43:06.923Z"
   },
   {
    "duration": 351,
    "start_time": "2022-10-28T12:44:05.162Z"
   },
   {
    "duration": 6,
    "start_time": "2022-10-28T12:44:35.448Z"
   },
   {
    "duration": 4,
    "start_time": "2022-10-28T12:44:39.640Z"
   },
   {
    "duration": 1684,
    "start_time": "2022-10-28T12:44:40.152Z"
   },
   {
    "duration": 18,
    "start_time": "2022-10-28T12:44:41.837Z"
   },
   {
    "duration": 5,
    "start_time": "2022-10-28T12:44:41.857Z"
   },
   {
    "duration": 11,
    "start_time": "2022-10-28T12:44:41.864Z"
   },
   {
    "duration": 5,
    "start_time": "2022-10-28T12:44:41.876Z"
   },
   {
    "duration": 40,
    "start_time": "2022-10-28T12:44:41.883Z"
   },
   {
    "duration": 16,
    "start_time": "2022-10-28T12:44:41.925Z"
   },
   {
    "duration": 3,
    "start_time": "2022-10-28T12:44:41.943Z"
   },
   {
    "duration": 3166,
    "start_time": "2022-10-28T12:44:41.948Z"
   },
   {
    "duration": 16,
    "start_time": "2022-10-28T12:44:45.116Z"
   },
   {
    "duration": 2840,
    "start_time": "2022-10-28T12:44:45.133Z"
   },
   {
    "duration": 361,
    "start_time": "2022-10-28T12:44:47.975Z"
   },
   {
    "duration": 13,
    "start_time": "2022-10-28T12:44:48.337Z"
   },
   {
    "duration": 11,
    "start_time": "2022-10-28T12:44:48.351Z"
   },
   {
    "duration": 9,
    "start_time": "2022-10-28T12:44:50.192Z"
   },
   {
    "duration": 9,
    "start_time": "2022-10-28T12:45:11.704Z"
   },
   {
    "duration": 9,
    "start_time": "2022-10-28T12:45:12.775Z"
   },
   {
    "duration": 349,
    "start_time": "2022-10-28T12:45:19.688Z"
   },
   {
    "duration": 393,
    "start_time": "2022-10-28T12:45:30.840Z"
   },
   {
    "duration": 349,
    "start_time": "2022-10-28T12:45:40.376Z"
   },
   {
    "duration": 355,
    "start_time": "2022-10-28T12:45:58.830Z"
   },
   {
    "duration": 351,
    "start_time": "2022-10-28T12:46:59.637Z"
   },
   {
    "duration": 125,
    "start_time": "2022-10-28T12:47:15.669Z"
   },
   {
    "duration": 127,
    "start_time": "2022-10-28T12:47:19.884Z"
   },
   {
    "duration": 18,
    "start_time": "2022-10-28T12:47:33.356Z"
   },
   {
    "duration": 11,
    "start_time": "2022-10-28T12:47:40.164Z"
   },
   {
    "duration": 8,
    "start_time": "2022-10-28T12:47:47.684Z"
   },
   {
    "duration": 107,
    "start_time": "2022-10-28T12:48:10.502Z"
   },
   {
    "duration": 517,
    "start_time": "2022-10-28T12:48:28.252Z"
   },
   {
    "duration": 420,
    "start_time": "2022-10-28T12:48:33.659Z"
   },
   {
    "duration": 13341,
    "start_time": "2022-10-28T12:48:39.130Z"
   },
   {
    "duration": 138,
    "start_time": "2022-10-28T12:49:24.794Z"
   },
   {
    "duration": 141,
    "start_time": "2022-10-28T12:49:33.658Z"
   },
   {
    "duration": 2966,
    "start_time": "2022-10-28T12:49:36.193Z"
   },
   {
    "duration": 494,
    "start_time": "2022-10-28T12:49:51.801Z"
   },
   {
    "duration": 696,
    "start_time": "2022-10-28T12:50:49.680Z"
   },
   {
    "duration": 556,
    "start_time": "2022-10-28T12:51:07.957Z"
   },
   {
    "duration": 9,
    "start_time": "2022-10-28T12:51:39.798Z"
   },
   {
    "duration": 681,
    "start_time": "2022-10-28T12:52:12.806Z"
   },
   {
    "duration": 728,
    "start_time": "2022-10-28T12:52:24.797Z"
   },
   {
    "duration": 441,
    "start_time": "2022-10-28T12:52:34.502Z"
   },
   {
    "duration": 622,
    "start_time": "2022-10-28T12:52:37.580Z"
   },
   {
    "duration": 374,
    "start_time": "2022-10-28T12:52:42.572Z"
   },
   {
    "duration": 353,
    "start_time": "2022-10-28T12:52:53.909Z"
   },
   {
    "duration": 358,
    "start_time": "2022-10-28T12:53:02.439Z"
   },
   {
    "duration": 117,
    "start_time": "2022-10-28T12:54:26.956Z"
   },
   {
    "duration": 148,
    "start_time": "2022-10-28T12:54:37.970Z"
   },
   {
    "duration": 472,
    "start_time": "2022-10-28T12:54:43.036Z"
   },
   {
    "duration": 706,
    "start_time": "2022-10-28T12:54:56.521Z"
   },
   {
    "duration": 593,
    "start_time": "2022-10-28T12:55:02.664Z"
   },
   {
    "duration": 490,
    "start_time": "2022-10-28T12:55:12.049Z"
   },
   {
    "duration": 837,
    "start_time": "2022-10-28T12:55:27.561Z"
   },
   {
    "duration": 745,
    "start_time": "2022-10-28T12:56:18.968Z"
   },
   {
    "duration": 1045,
    "start_time": "2022-10-28T12:57:30.223Z"
   },
   {
    "duration": 701,
    "start_time": "2022-10-28T12:57:50.682Z"
   },
   {
    "duration": 685,
    "start_time": "2022-10-28T12:58:12.853Z"
   },
   {
    "duration": 944,
    "start_time": "2022-10-28T12:58:20.357Z"
   },
   {
    "duration": 732,
    "start_time": "2022-10-28T12:58:39.848Z"
   },
   {
    "duration": 870,
    "start_time": "2022-10-28T12:58:47.712Z"
   },
   {
    "duration": 745,
    "start_time": "2022-10-28T12:58:52.658Z"
   },
   {
    "duration": 1983,
    "start_time": "2022-10-29T13:13:46.629Z"
   },
   {
    "duration": 2090,
    "start_time": "2022-10-29T13:13:51.461Z"
   },
   {
    "duration": 29,
    "start_time": "2022-10-29T13:13:54.116Z"
   },
   {
    "duration": 8,
    "start_time": "2022-10-29T13:13:54.653Z"
   },
   {
    "duration": 13,
    "start_time": "2022-10-29T13:13:54.728Z"
   },
   {
    "duration": 8,
    "start_time": "2022-10-29T13:13:54.820Z"
   },
   {
    "duration": 23,
    "start_time": "2022-10-29T13:13:54.882Z"
   },
   {
    "duration": 22,
    "start_time": "2022-10-29T13:13:54.947Z"
   },
   {
    "duration": 4,
    "start_time": "2022-10-29T13:13:55.025Z"
   },
   {
    "duration": 327,
    "start_time": "2022-10-29T13:13:55.087Z"
   },
   {
    "duration": 0,
    "start_time": "2022-10-29T13:13:55.416Z"
   },
   {
    "duration": 0,
    "start_time": "2022-10-29T13:13:55.418Z"
   },
   {
    "duration": 1083,
    "start_time": "2022-10-29T13:13:55.445Z"
   },
   {
    "duration": 25,
    "start_time": "2022-10-29T13:13:56.530Z"
   },
   {
    "duration": 9,
    "start_time": "2022-10-29T13:21:17.689Z"
   },
   {
    "duration": 3,
    "start_time": "2022-10-29T13:21:40.281Z"
   },
   {
    "duration": 1717,
    "start_time": "2022-10-29T13:21:40.780Z"
   },
   {
    "duration": 31,
    "start_time": "2022-10-29T13:21:42.501Z"
   },
   {
    "duration": 8,
    "start_time": "2022-10-29T13:21:42.534Z"
   },
   {
    "duration": 28,
    "start_time": "2022-10-29T13:21:42.545Z"
   },
   {
    "duration": 16,
    "start_time": "2022-10-29T13:21:42.575Z"
   },
   {
    "duration": 21,
    "start_time": "2022-10-29T13:21:42.592Z"
   },
   {
    "duration": 45,
    "start_time": "2022-10-29T13:21:42.616Z"
   },
   {
    "duration": 10,
    "start_time": "2022-10-29T13:21:42.665Z"
   },
   {
    "duration": 201,
    "start_time": "2022-10-29T13:21:42.679Z"
   },
   {
    "duration": 0,
    "start_time": "2022-10-29T13:21:42.884Z"
   },
   {
    "duration": 0,
    "start_time": "2022-10-29T13:21:42.886Z"
   },
   {
    "duration": 0,
    "start_time": "2022-10-29T13:21:42.887Z"
   },
   {
    "duration": 0,
    "start_time": "2022-10-29T13:21:42.888Z"
   },
   {
    "duration": 7,
    "start_time": "2022-10-29T13:21:43.329Z"
   },
   {
    "duration": 4,
    "start_time": "2022-10-29T13:22:17.122Z"
   },
   {
    "duration": 4,
    "start_time": "2022-10-29T13:22:23.209Z"
   },
   {
    "duration": 1562,
    "start_time": "2022-10-29T13:22:23.716Z"
   },
   {
    "duration": 23,
    "start_time": "2022-10-29T13:22:25.280Z"
   },
   {
    "duration": 8,
    "start_time": "2022-10-29T13:22:25.305Z"
   },
   {
    "duration": 43,
    "start_time": "2022-10-29T13:22:25.316Z"
   },
   {
    "duration": 15,
    "start_time": "2022-10-29T13:22:25.367Z"
   },
   {
    "duration": 44,
    "start_time": "2022-10-29T13:22:25.386Z"
   },
   {
    "duration": 29,
    "start_time": "2022-10-29T13:22:25.432Z"
   },
   {
    "duration": 18,
    "start_time": "2022-10-29T13:22:25.464Z"
   },
   {
    "duration": 3931,
    "start_time": "2022-10-29T13:22:25.484Z"
   },
   {
    "duration": 39,
    "start_time": "2022-10-29T13:22:29.418Z"
   },
   {
    "duration": 3854,
    "start_time": "2022-10-29T13:22:29.468Z"
   },
   {
    "duration": 1108,
    "start_time": "2022-10-29T13:22:33.324Z"
   },
   {
    "duration": 29,
    "start_time": "2022-10-29T13:22:34.434Z"
   },
   {
    "duration": 4,
    "start_time": "2022-10-29T13:24:53.633Z"
   },
   {
    "duration": 1166,
    "start_time": "2022-10-29T13:24:54.328Z"
   },
   {
    "duration": 31,
    "start_time": "2022-10-29T13:24:55.496Z"
   },
   {
    "duration": 25,
    "start_time": "2022-10-29T13:24:55.529Z"
   },
   {
    "duration": 15,
    "start_time": "2022-10-29T13:24:55.557Z"
   },
   {
    "duration": 39,
    "start_time": "2022-10-29T13:24:55.574Z"
   },
   {
    "duration": 28,
    "start_time": "2022-10-29T13:24:55.615Z"
   },
   {
    "duration": 46,
    "start_time": "2022-10-29T13:24:55.645Z"
   },
   {
    "duration": 9,
    "start_time": "2022-10-29T13:24:55.693Z"
   },
   {
    "duration": 3562,
    "start_time": "2022-10-29T13:24:55.705Z"
   },
   {
    "duration": 20,
    "start_time": "2022-10-29T13:24:59.269Z"
   },
   {
    "duration": 4049,
    "start_time": "2022-10-29T13:24:59.291Z"
   },
   {
    "duration": 929,
    "start_time": "2022-10-29T13:25:03.342Z"
   },
   {
    "duration": 14,
    "start_time": "2022-10-29T13:25:04.273Z"
   },
   {
    "duration": 7,
    "start_time": "2022-10-29T13:25:04.288Z"
   },
   {
    "duration": 6,
    "start_time": "2022-10-29T13:27:37.670Z"
   },
   {
    "duration": 7,
    "start_time": "2022-10-29T13:27:44.984Z"
   },
   {
    "duration": 9,
    "start_time": "2022-10-29T13:27:54.240Z"
   },
   {
    "duration": 33,
    "start_time": "2022-10-29T13:28:31.443Z"
   },
   {
    "duration": 20,
    "start_time": "2022-10-29T13:28:36.896Z"
   },
   {
    "duration": 10,
    "start_time": "2022-10-29T13:28:44.599Z"
   },
   {
    "duration": 9,
    "start_time": "2022-10-29T13:31:46.466Z"
   },
   {
    "duration": 296,
    "start_time": "2022-10-29T13:32:50.527Z"
   },
   {
    "duration": 300,
    "start_time": "2022-10-29T13:32:55.702Z"
   },
   {
    "duration": 295,
    "start_time": "2022-10-29T13:33:40.679Z"
   },
   {
    "duration": 328,
    "start_time": "2022-10-29T13:33:53.558Z"
   },
   {
    "duration": 168,
    "start_time": "2022-10-29T13:33:56.966Z"
   },
   {
    "duration": 410,
    "start_time": "2022-10-29T13:34:00.510Z"
   },
   {
    "duration": 147,
    "start_time": "2022-10-29T13:34:07.046Z"
   },
   {
    "duration": 150,
    "start_time": "2022-10-29T13:34:46.682Z"
   },
   {
    "duration": 144,
    "start_time": "2022-10-29T13:34:52.678Z"
   },
   {
    "duration": 9,
    "start_time": "2022-10-29T13:35:24.311Z"
   },
   {
    "duration": 11,
    "start_time": "2022-10-29T13:35:32.190Z"
   },
   {
    "duration": 9,
    "start_time": "2022-10-29T13:36:43.629Z"
   },
   {
    "duration": 4,
    "start_time": "2022-10-29T14:09:01.996Z"
   },
   {
    "duration": 1614,
    "start_time": "2022-10-29T14:09:02.029Z"
   },
   {
    "duration": 20,
    "start_time": "2022-10-29T14:09:03.645Z"
   },
   {
    "duration": 7,
    "start_time": "2022-10-29T14:09:03.666Z"
   },
   {
    "duration": 23,
    "start_time": "2022-10-29T14:09:03.675Z"
   },
   {
    "duration": 24,
    "start_time": "2022-10-29T14:09:03.700Z"
   },
   {
    "duration": 31,
    "start_time": "2022-10-29T14:09:03.726Z"
   },
   {
    "duration": 17,
    "start_time": "2022-10-29T14:09:03.759Z"
   },
   {
    "duration": 5,
    "start_time": "2022-10-29T14:09:03.778Z"
   },
   {
    "duration": 3444,
    "start_time": "2022-10-29T14:09:03.785Z"
   },
   {
    "duration": 23,
    "start_time": "2022-10-29T14:09:07.232Z"
   },
   {
    "duration": 3335,
    "start_time": "2022-10-29T14:09:07.257Z"
   },
   {
    "duration": 850,
    "start_time": "2022-10-29T14:09:10.594Z"
   },
   {
    "duration": 21,
    "start_time": "2022-10-29T14:09:11.446Z"
   },
   {
    "duration": 11,
    "start_time": "2022-10-29T14:09:11.469Z"
   },
   {
    "duration": 17,
    "start_time": "2022-10-29T14:09:11.482Z"
   },
   {
    "duration": 14,
    "start_time": "2022-10-29T14:09:11.501Z"
   },
   {
    "duration": 46,
    "start_time": "2022-10-29T14:09:11.517Z"
   },
   {
    "duration": 96,
    "start_time": "2022-10-29T14:18:35.999Z"
   },
   {
    "duration": 41,
    "start_time": "2022-10-29T14:18:39.912Z"
   },
   {
    "duration": 41,
    "start_time": "2022-10-29T14:19:07.241Z"
   },
   {
    "duration": 3627,
    "start_time": "2022-10-29T14:19:10.919Z"
   },
   {
    "duration": 4,
    "start_time": "2022-10-29T14:19:22.217Z"
   },
   {
    "duration": 1677,
    "start_time": "2022-10-29T14:19:22.952Z"
   },
   {
    "duration": 24,
    "start_time": "2022-10-29T14:19:24.632Z"
   },
   {
    "duration": 8,
    "start_time": "2022-10-29T14:19:24.659Z"
   },
   {
    "duration": 15,
    "start_time": "2022-10-29T14:19:24.669Z"
   },
   {
    "duration": 10,
    "start_time": "2022-10-29T14:19:24.686Z"
   },
   {
    "duration": 59,
    "start_time": "2022-10-29T14:19:24.698Z"
   },
   {
    "duration": 25,
    "start_time": "2022-10-29T14:19:24.759Z"
   },
   {
    "duration": 6,
    "start_time": "2022-10-29T14:19:24.786Z"
   },
   {
    "duration": 3366,
    "start_time": "2022-10-29T14:19:24.794Z"
   },
   {
    "duration": 17,
    "start_time": "2022-10-29T14:19:28.163Z"
   },
   {
    "duration": 3537,
    "start_time": "2022-10-29T14:19:28.183Z"
   },
   {
    "duration": 886,
    "start_time": "2022-10-29T14:19:31.722Z"
   },
   {
    "duration": 14,
    "start_time": "2022-10-29T14:19:32.609Z"
   },
   {
    "duration": 9,
    "start_time": "2022-10-29T14:19:32.625Z"
   },
   {
    "duration": 11,
    "start_time": "2022-10-29T14:19:32.655Z"
   },
   {
    "duration": 9,
    "start_time": "2022-10-29T14:19:32.668Z"
   },
   {
    "duration": 9,
    "start_time": "2022-10-29T14:19:32.680Z"
   },
   {
    "duration": 16,
    "start_time": "2022-10-29T14:29:16.380Z"
   },
   {
    "duration": 24,
    "start_time": "2022-10-29T14:29:58.660Z"
   },
   {
    "duration": 255,
    "start_time": "2022-10-29T14:30:00.876Z"
   },
   {
    "duration": 156,
    "start_time": "2022-10-29T14:30:09.844Z"
   },
   {
    "duration": 370,
    "start_time": "2022-10-29T14:30:11.884Z"
   },
   {
    "duration": 18,
    "start_time": "2022-10-29T14:31:38.123Z"
   },
   {
    "duration": 18,
    "start_time": "2022-10-29T14:31:42.651Z"
   },
   {
    "duration": 16,
    "start_time": "2022-10-29T14:31:57.100Z"
   },
   {
    "duration": 158,
    "start_time": "2022-10-29T14:32:20.348Z"
   },
   {
    "duration": 8,
    "start_time": "2022-10-29T14:32:27.012Z"
   },
   {
    "duration": 151,
    "start_time": "2022-10-29T14:32:44.139Z"
   },
   {
    "duration": 1274,
    "start_time": "2022-10-29T14:33:04.219Z"
   },
   {
    "duration": 1170,
    "start_time": "2022-10-29T14:33:12.642Z"
   },
   {
    "duration": 1208,
    "start_time": "2022-10-29T14:33:17.755Z"
   },
   {
    "duration": 1260,
    "start_time": "2022-10-29T14:33:20.083Z"
   },
   {
    "duration": 1105,
    "start_time": "2022-10-29T14:33:24.875Z"
   },
   {
    "duration": 1161,
    "start_time": "2022-10-29T14:33:32.628Z"
   },
   {
    "duration": 149,
    "start_time": "2022-10-29T14:33:47.787Z"
   },
   {
    "duration": 189,
    "start_time": "2022-10-29T14:34:05.707Z"
   },
   {
    "duration": 146,
    "start_time": "2022-10-29T14:34:10.035Z"
   },
   {
    "duration": 143,
    "start_time": "2022-10-29T14:34:13.699Z"
   },
   {
    "duration": 310,
    "start_time": "2022-10-29T14:34:20.554Z"
   },
   {
    "duration": 1157,
    "start_time": "2022-10-29T14:34:32.451Z"
   },
   {
    "duration": 184,
    "start_time": "2022-10-29T14:34:43.218Z"
   },
   {
    "duration": 1196,
    "start_time": "2022-10-29T14:34:47.819Z"
   },
   {
    "duration": 254,
    "start_time": "2022-10-29T14:35:38.914Z"
   },
   {
    "duration": 344,
    "start_time": "2022-10-29T14:35:42.274Z"
   },
   {
    "duration": 264,
    "start_time": "2022-10-29T14:36:44.218Z"
   },
   {
    "duration": 533,
    "start_time": "2022-10-29T14:37:09.314Z"
   },
   {
    "duration": 644,
    "start_time": "2022-10-29T14:38:21.502Z"
   },
   {
    "duration": 31,
    "start_time": "2022-10-29T14:39:46.785Z"
   },
   {
    "duration": 46,
    "start_time": "2022-10-29T14:40:20.561Z"
   },
   {
    "duration": 1139,
    "start_time": "2022-10-29T14:40:24.049Z"
   },
   {
    "duration": 1143,
    "start_time": "2022-10-29T14:40:25.385Z"
   },
   {
    "duration": 169,
    "start_time": "2022-10-29T14:41:27.072Z"
   },
   {
    "duration": 483,
    "start_time": "2022-10-29T14:41:34.745Z"
   },
   {
    "duration": 14,
    "start_time": "2022-10-29T14:42:12.608Z"
   },
   {
    "duration": 157,
    "start_time": "2022-10-29T14:42:57.425Z"
   },
   {
    "duration": 154,
    "start_time": "2022-10-29T14:43:02.473Z"
   },
   {
    "duration": 40,
    "start_time": "2022-10-29T14:43:06.184Z"
   },
   {
    "duration": 155,
    "start_time": "2022-10-29T14:43:18.784Z"
   },
   {
    "duration": 586,
    "start_time": "2022-10-29T14:43:34.241Z"
   },
   {
    "duration": 468,
    "start_time": "2022-10-29T14:43:45.384Z"
   },
   {
    "duration": 472,
    "start_time": "2022-10-29T14:43:52.824Z"
   },
   {
    "duration": 162,
    "start_time": "2022-10-29T14:43:58.505Z"
   },
   {
    "duration": 152,
    "start_time": "2022-10-29T14:44:04.881Z"
   },
   {
    "duration": 76,
    "start_time": "2022-10-29T14:44:07.240Z"
   },
   {
    "duration": 156,
    "start_time": "2022-10-29T14:44:10.112Z"
   },
   {
    "duration": 493,
    "start_time": "2022-10-29T14:44:12.320Z"
   },
   {
    "duration": 498,
    "start_time": "2022-10-29T14:46:38.352Z"
   },
   {
    "duration": 481,
    "start_time": "2022-10-29T14:46:48.536Z"
   },
   {
    "duration": 43,
    "start_time": "2022-10-29T15:08:35.051Z"
   },
   {
    "duration": 6,
    "start_time": "2022-10-29T15:08:49.988Z"
   },
   {
    "duration": 1656,
    "start_time": "2022-10-29T15:08:50.019Z"
   },
   {
    "duration": 25,
    "start_time": "2022-10-29T15:08:51.677Z"
   },
   {
    "duration": 8,
    "start_time": "2022-10-29T15:08:51.704Z"
   },
   {
    "duration": 19,
    "start_time": "2022-10-29T15:08:51.714Z"
   },
   {
    "duration": 10,
    "start_time": "2022-10-29T15:08:51.755Z"
   },
   {
    "duration": 34,
    "start_time": "2022-10-29T15:08:51.768Z"
   },
   {
    "duration": 18,
    "start_time": "2022-10-29T15:08:51.804Z"
   },
   {
    "duration": 4,
    "start_time": "2022-10-29T15:08:51.824Z"
   },
   {
    "duration": 3438,
    "start_time": "2022-10-29T15:08:51.831Z"
   },
   {
    "duration": 17,
    "start_time": "2022-10-29T15:08:55.272Z"
   },
   {
    "duration": 3644,
    "start_time": "2022-10-29T15:08:55.291Z"
   },
   {
    "duration": 1053,
    "start_time": "2022-10-29T15:08:58.938Z"
   },
   {
    "duration": 15,
    "start_time": "2022-10-29T15:08:59.993Z"
   },
   {
    "duration": 532,
    "start_time": "2022-10-29T15:09:00.010Z"
   },
   {
    "duration": 16,
    "start_time": "2022-10-29T15:09:00.545Z"
   },
   {
    "duration": 28,
    "start_time": "2022-10-29T15:09:00.564Z"
   },
   {
    "duration": 22,
    "start_time": "2022-10-29T15:09:00.594Z"
   },
   {
    "duration": 26,
    "start_time": "2022-10-29T15:09:00.618Z"
   },
   {
    "duration": 1615,
    "start_time": "2022-10-30T13:59:09.287Z"
   },
   {
    "duration": 1659,
    "start_time": "2022-10-30T13:59:10.905Z"
   },
   {
    "duration": 25,
    "start_time": "2022-10-30T13:59:12.565Z"
   },
   {
    "duration": 7,
    "start_time": "2022-10-30T13:59:12.591Z"
   },
   {
    "duration": 26,
    "start_time": "2022-10-30T13:59:12.601Z"
   },
   {
    "duration": 8,
    "start_time": "2022-10-30T13:59:12.629Z"
   },
   {
    "duration": 23,
    "start_time": "2022-10-30T13:59:12.639Z"
   },
   {
    "duration": 45,
    "start_time": "2022-10-30T13:59:12.664Z"
   },
   {
    "duration": 5,
    "start_time": "2022-10-30T13:59:12.711Z"
   },
   {
    "duration": 3794,
    "start_time": "2022-10-30T13:59:12.718Z"
   },
   {
    "duration": 14,
    "start_time": "2022-10-30T13:59:16.513Z"
   },
   {
    "duration": 2914,
    "start_time": "2022-10-30T13:59:16.528Z"
   },
   {
    "duration": 875,
    "start_time": "2022-10-30T13:59:19.444Z"
   },
   {
    "duration": 11,
    "start_time": "2022-10-30T13:59:20.322Z"
   },
   {
    "duration": 441,
    "start_time": "2022-10-30T13:59:20.335Z"
   },
   {
    "duration": 8,
    "start_time": "2022-10-30T13:59:20.777Z"
   },
   {
    "duration": 6,
    "start_time": "2022-10-30T13:59:20.786Z"
   },
   {
    "duration": 12,
    "start_time": "2022-10-30T13:59:20.811Z"
   },
   {
    "duration": 12,
    "start_time": "2022-10-30T13:59:20.824Z"
   },
   {
    "duration": 55,
    "start_time": "2022-10-30T17:05:13.198Z"
   },
   {
    "duration": 1863,
    "start_time": "2022-11-01T12:12:12.155Z"
   },
   {
    "duration": 2212,
    "start_time": "2022-11-01T12:12:14.020Z"
   },
   {
    "duration": 25,
    "start_time": "2022-11-01T12:12:16.235Z"
   },
   {
    "duration": 7,
    "start_time": "2022-11-01T12:12:16.262Z"
   },
   {
    "duration": 30,
    "start_time": "2022-11-01T12:12:16.270Z"
   },
   {
    "duration": 26,
    "start_time": "2022-11-01T12:12:16.302Z"
   },
   {
    "duration": 34,
    "start_time": "2022-11-01T12:12:16.330Z"
   },
   {
    "duration": 26,
    "start_time": "2022-11-01T12:12:16.366Z"
   },
   {
    "duration": 14,
    "start_time": "2022-11-01T12:12:16.394Z"
   },
   {
    "duration": 3570,
    "start_time": "2022-11-01T12:12:16.411Z"
   },
   {
    "duration": 17,
    "start_time": "2022-11-01T12:12:19.983Z"
   },
   {
    "duration": 3392,
    "start_time": "2022-11-01T12:12:20.002Z"
   },
   {
    "duration": 981,
    "start_time": "2022-11-01T12:12:23.395Z"
   },
   {
    "duration": 13,
    "start_time": "2022-11-01T12:12:24.377Z"
   },
   {
    "duration": 944,
    "start_time": "2022-11-01T12:12:24.392Z"
   },
   {
    "duration": 9,
    "start_time": "2022-11-01T12:12:25.338Z"
   },
   {
    "duration": 25,
    "start_time": "2022-11-01T12:12:25.349Z"
   },
   {
    "duration": 9,
    "start_time": "2022-11-01T12:12:25.376Z"
   },
   {
    "duration": 11,
    "start_time": "2022-11-01T12:12:25.387Z"
   },
   {
    "duration": 127,
    "start_time": "2022-11-01T12:16:32.359Z"
   },
   {
    "duration": 32,
    "start_time": "2022-11-01T12:16:55.455Z"
   },
   {
    "duration": 6,
    "start_time": "2022-11-01T12:17:18.927Z"
   },
   {
    "duration": 7,
    "start_time": "2022-11-01T12:17:57.767Z"
   },
   {
    "duration": 26,
    "start_time": "2022-11-01T12:18:02.503Z"
   },
   {
    "duration": 8,
    "start_time": "2022-11-01T12:18:26.251Z"
   },
   {
    "duration": 7,
    "start_time": "2022-11-01T12:18:31.327Z"
   },
   {
    "duration": 4,
    "start_time": "2022-11-01T12:42:48.361Z"
   },
   {
    "duration": 1689,
    "start_time": "2022-11-01T12:42:48.367Z"
   },
   {
    "duration": 20,
    "start_time": "2022-11-01T12:42:50.058Z"
   },
   {
    "duration": 6,
    "start_time": "2022-11-01T12:42:50.079Z"
   },
   {
    "duration": 12,
    "start_time": "2022-11-01T12:42:50.087Z"
   },
   {
    "duration": 7,
    "start_time": "2022-11-01T12:42:50.101Z"
   },
   {
    "duration": 45,
    "start_time": "2022-11-01T12:42:50.110Z"
   },
   {
    "duration": 16,
    "start_time": "2022-11-01T12:42:50.156Z"
   },
   {
    "duration": 4,
    "start_time": "2022-11-01T12:42:50.174Z"
   },
   {
    "duration": 3339,
    "start_time": "2022-11-01T12:42:50.180Z"
   },
   {
    "duration": 24,
    "start_time": "2022-11-01T12:42:53.520Z"
   },
   {
    "duration": 3271,
    "start_time": "2022-11-01T12:42:53.545Z"
   },
   {
    "duration": 1019,
    "start_time": "2022-11-01T12:42:56.819Z"
   },
   {
    "duration": 13,
    "start_time": "2022-11-01T12:42:57.840Z"
   },
   {
    "duration": 792,
    "start_time": "2022-11-01T12:42:57.854Z"
   },
   {
    "duration": 8,
    "start_time": "2022-11-01T12:42:58.647Z"
   },
   {
    "duration": 8,
    "start_time": "2022-11-01T12:42:58.657Z"
   },
   {
    "duration": 9,
    "start_time": "2022-11-01T12:42:58.667Z"
   },
   {
    "duration": 8,
    "start_time": "2022-11-01T12:42:58.678Z"
   },
   {
    "duration": 9,
    "start_time": "2022-11-01T12:42:58.687Z"
   },
   {
    "duration": 11,
    "start_time": "2022-11-01T12:47:08.348Z"
   },
   {
    "duration": 7,
    "start_time": "2022-11-01T12:47:20.652Z"
   },
   {
    "duration": 7,
    "start_time": "2022-11-01T12:49:18.084Z"
   },
   {
    "duration": 24,
    "start_time": "2022-11-01T12:49:21.123Z"
   },
   {
    "duration": 8,
    "start_time": "2022-11-01T12:49:37.235Z"
   },
   {
    "duration": 30,
    "start_time": "2022-11-01T12:50:48.428Z"
   },
   {
    "duration": 6,
    "start_time": "2022-11-01T12:51:00.275Z"
   },
   {
    "duration": 6,
    "start_time": "2022-11-01T12:51:07.579Z"
   },
   {
    "duration": 10,
    "start_time": "2022-11-01T12:53:01.778Z"
   },
   {
    "duration": 11,
    "start_time": "2022-11-01T12:54:29.211Z"
   },
   {
    "duration": 16,
    "start_time": "2022-11-01T12:54:34.370Z"
   },
   {
    "duration": 16,
    "start_time": "2022-11-01T12:54:58.107Z"
   },
   {
    "duration": 13,
    "start_time": "2022-11-01T12:55:12.475Z"
   },
   {
    "duration": 53,
    "start_time": "2022-11-01T12:55:22.491Z"
   },
   {
    "duration": 6,
    "start_time": "2022-11-01T12:56:21.755Z"
   },
   {
    "duration": 8,
    "start_time": "2022-11-01T13:05:34.586Z"
   },
   {
    "duration": 12,
    "start_time": "2022-11-01T13:06:06.713Z"
   },
   {
    "duration": 6,
    "start_time": "2022-11-01T13:06:14.089Z"
   },
   {
    "duration": 13,
    "start_time": "2022-11-01T13:07:26.545Z"
   },
   {
    "duration": 4,
    "start_time": "2022-11-01T13:07:35.928Z"
   },
   {
    "duration": 5,
    "start_time": "2022-11-01T13:08:14.903Z"
   },
   {
    "duration": 7,
    "start_time": "2022-11-01T13:09:28.134Z"
   },
   {
    "duration": 19,
    "start_time": "2022-11-01T13:10:20.564Z"
   },
   {
    "duration": 22,
    "start_time": "2022-11-01T13:10:30.813Z"
   },
   {
    "duration": 4,
    "start_time": "2022-11-01T13:12:10.333Z"
   },
   {
    "duration": 1927,
    "start_time": "2022-11-01T13:12:10.357Z"
   },
   {
    "duration": 21,
    "start_time": "2022-11-01T13:12:12.286Z"
   },
   {
    "duration": 6,
    "start_time": "2022-11-01T13:12:12.308Z"
   },
   {
    "duration": 16,
    "start_time": "2022-11-01T13:12:12.316Z"
   },
   {
    "duration": 7,
    "start_time": "2022-11-01T13:12:12.334Z"
   },
   {
    "duration": 19,
    "start_time": "2022-11-01T13:12:12.343Z"
   },
   {
    "duration": 17,
    "start_time": "2022-11-01T13:12:12.364Z"
   },
   {
    "duration": 5,
    "start_time": "2022-11-01T13:12:12.382Z"
   },
   {
    "duration": 3286,
    "start_time": "2022-11-01T13:12:12.388Z"
   },
   {
    "duration": 16,
    "start_time": "2022-11-01T13:12:15.676Z"
   },
   {
    "duration": 3217,
    "start_time": "2022-11-01T13:12:15.694Z"
   },
   {
    "duration": 816,
    "start_time": "2022-11-01T13:12:18.912Z"
   },
   {
    "duration": 17,
    "start_time": "2022-11-01T13:12:19.729Z"
   },
   {
    "duration": 991,
    "start_time": "2022-11-01T13:12:19.748Z"
   },
   {
    "duration": 8,
    "start_time": "2022-11-01T13:12:20.741Z"
   },
   {
    "duration": 16,
    "start_time": "2022-11-01T13:12:20.750Z"
   },
   {
    "duration": 7,
    "start_time": "2022-11-01T13:12:20.768Z"
   },
   {
    "duration": 7,
    "start_time": "2022-11-01T13:12:20.776Z"
   },
   {
    "duration": 14,
    "start_time": "2022-11-01T13:12:20.784Z"
   },
   {
    "duration": 15,
    "start_time": "2022-11-01T13:12:28.730Z"
   },
   {
    "duration": 73,
    "start_time": "2022-11-02T12:27:35.585Z"
   }
  ],
  "kernelspec": {
   "display_name": "Python 3 (ipykernel)",
   "language": "python",
   "name": "python3"
  },
  "language_info": {
   "codemirror_mode": {
    "name": "ipython",
    "version": 3
   },
   "file_extension": ".py",
   "mimetype": "text/x-python",
   "name": "python",
   "nbconvert_exporter": "python",
   "pygments_lexer": "ipython3",
   "version": "3.10.7"
  },
  "toc": {
   "base_numbering": 1,
   "nav_menu": {},
   "number_sections": true,
   "sideBar": true,
   "skip_h1_title": true,
   "title_cell": "Table of Contents",
   "title_sidebar": "Contents",
   "toc_cell": false,
   "toc_position": {},
   "toc_section_display": true,
   "toc_window_display": false
  }
 },
 "nbformat": 4,
 "nbformat_minor": 4
}
